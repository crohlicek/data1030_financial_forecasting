{
 "cells": [
  {
   "cell_type": "markdown",
   "metadata": {},
   "source": [
    "# EDA and Preprocessing\n",
    "## Starting dataset: S&P Index over the past 5 years"
   ]
  },
  {
   "cell_type": "code",
   "execution_count": 109,
   "metadata": {},
   "outputs": [
    {
     "name": "stdout",
     "output_type": "stream",
     "text": [
      "         Date         Open         High          Low        Close  \\\n",
      "0  2015-10-12  2015.650024  2018.660034  2010.550049  2017.459961   \n",
      "1  2015-10-13  2015.000000  2022.339966  2001.780029  2003.689941   \n",
      "2  2015-10-14  2003.660034  2009.560059  1990.729980  1994.239990   \n",
      "3  2015-10-15  1996.469971  2024.150024  1996.469971  2023.859985   \n",
      "4  2015-10-16  2024.369995  2033.540039  2020.459961  2033.109985   \n",
      "\n",
      "     Adj Close      Volume  \n",
      "0  2017.459961  2893250000  \n",
      "1  2003.689941  3401920000  \n",
      "2  1994.239990  3644590000  \n",
      "3  2023.859985  3746290000  \n",
      "4  2033.109985  3595430000  \n",
      "            Date         Open         High          Low        Close  \\\n",
      "1254  2020-10-05  3367.270020  3409.570068  3367.270020  3408.600098   \n",
      "1255  2020-10-06  3408.739990  3431.560059  3354.540039  3360.969971   \n",
      "1256  2020-10-07  3384.560059  3426.260010  3384.560059  3419.439941   \n",
      "1257  2020-10-08  3434.280029  3447.280029  3428.149902  3446.830078   \n",
      "1258  2020-10-09  3459.669922  3482.340088  3458.070068  3477.139893   \n",
      "\n",
      "        Adj Close      Volume  \n",
      "1254  3408.600098  3686920000  \n",
      "1255  3360.969971  4443380000  \n",
      "1256  3419.439941  3807830000  \n",
      "1257  3446.830078  3856190000  \n",
      "1258  3477.139893  3939060000  \n"
     ]
    }
   ],
   "source": [
    "import numpy as np\n",
    "import pandas as pd\n",
    "import matplotlib.pyplot as plt\n",
    "\n",
    "# reading in the data:\n",
    "df = pd.read_csv('../data/^GSPC.csv')\n",
    "print(df.head())\n",
    "print(df.tail())"
   ]
  },
  {
   "cell_type": "markdown",
   "metadata": {},
   "source": [
    "### Adding features of 50 and 100 day moving average adjusted closing price"
   ]
  },
  {
   "cell_type": "code",
   "execution_count": 110,
   "metadata": {},
   "outputs": [],
   "source": [
    "# we calculate the moving averages using the .rolling function from pandas\n",
    "# --> we keep center=False so these have NaNs for the first 49 and 99 entries\n",
    "moving_avg_50 = df['Adj Close'].rolling(window=50,center=False).mean()\n",
    "moving_avg_100 = df['Adj Close'].rolling(window=100,center=False).mean()"
   ]
  },
  {
   "cell_type": "code",
   "execution_count": 111,
   "metadata": {},
   "outputs": [
    {
     "data": {
      "text/plain": [
       "0               NaN\n",
       "1               NaN\n",
       "2               NaN\n",
       "3               NaN\n",
       "4               NaN\n",
       "           ...     \n",
       "1254    3365.464209\n",
       "1255    3367.895410\n",
       "1256    3371.915410\n",
       "1257    3375.683213\n",
       "1258    3380.301611\n",
       "Name: Adj Close, Length: 1259, dtype: float64"
      ]
     },
     "execution_count": 111,
     "metadata": {},
     "output_type": "execute_result"
    }
   ],
   "source": [
    "moving_avg_50"
   ]
  },
  {
   "cell_type": "code",
   "execution_count": 112,
   "metadata": {},
   "outputs": [
    {
     "name": "stdout",
     "output_type": "stream",
     "text": [
      "            Date         Open         High          Low        Close  \\\n",
      "1254  2020-10-05  3367.270020  3409.570068  3367.270020  3408.600098   \n",
      "1255  2020-10-06  3408.739990  3431.560059  3354.540039  3360.969971   \n",
      "1256  2020-10-07  3384.560059  3426.260010  3384.560059  3419.439941   \n",
      "1257  2020-10-08  3434.280029  3447.280029  3428.149902  3446.830078   \n",
      "1258  2020-10-09  3459.669922  3482.340088  3458.070068  3477.139893   \n",
      "\n",
      "        Adj Close      Volume  moving_avg_50  moving_avg_100  \n",
      "1254  3408.600098  3686920000    3365.464209     3234.803010  \n",
      "1255  3360.969971  4443380000    3367.895410     3239.887710  \n",
      "1256  3419.439941  3807830000    3371.915410     3245.445110  \n",
      "1257  3446.830078  3856190000    3375.683213     3250.374312  \n",
      "1258  3477.139893  3939060000    3380.301611     3255.916311  \n"
     ]
    }
   ],
   "source": [
    "# ... and we attach these features to our dataframe:\n",
    "df['moving_avg_50'] = moving_avg_50\n",
    "df['moving_avg_100'] = moving_avg_100\n",
    "\n",
    "print(df.tail())"
   ]
  },
  {
   "cell_type": "markdown",
   "metadata": {},
   "source": [
    "### To avoid missing values in the 50- and 100-day rolling average column, we'll fill the missing values with the cumulative averages over the first d<50,100 days (i.e. for day 10, the value will be the average over the first 9 days)\n",
    "***we'll necessarily still have NaN in the first day's slot because we have no previous days Adj. Close to look at, but we can just drop the first row***"
   ]
  },
  {
   "cell_type": "code",
   "execution_count": 113,
   "metadata": {},
   "outputs": [],
   "source": [
    "# expanding().mean() gives us the cumulative average\n",
    "cumulative_avg = df['Adj Close'].expanding().mean()"
   ]
  },
  {
   "cell_type": "code",
   "execution_count": 114,
   "metadata": {},
   "outputs": [
    {
     "name": "stderr",
     "output_type": "stream",
     "text": [
      "/opt/anaconda3/envs/data1030/lib/python3.7/site-packages/pandas/core/indexing.py:671: SettingWithCopyWarning: \n",
      "A value is trying to be set on a copy of a slice from a DataFrame\n",
      "\n",
      "See the caveats in the documentation: https://pandas.pydata.org/pandas-docs/stable/user_guide/indexing.html#returning-a-view-versus-a-copy\n",
      "  self._setitem_with_indexer(indexer, value)\n"
     ]
    }
   ],
   "source": [
    "# loop through the 2nd through 49th elements of the 50-day moving\n",
    "# average column and fill in the cumulative average values\n",
    "for i in range(1,49):\n",
    "    df['moving_avg_50'].iloc[i] = cumulative_avg[i-1]\n",
    "    \n",
    "# ... and then the same for the 2nd through 99th elements of the 100-day\n",
    "for i in range(1,99):\n",
    "    df['moving_avg_100'].iloc[i] = cumulative_avg[i-1]"
   ]
  },
  {
   "cell_type": "markdown",
   "metadata": {},
   "source": [
    "### Adding date-related features"
   ]
  },
  {
   "cell_type": "code",
   "execution_count": 115,
   "metadata": {},
   "outputs": [],
   "source": [
    "# we'll need to parse the Date column into datetime objects to easy operate on their values?\n",
    "import datetime"
   ]
  },
  {
   "cell_type": "code",
   "execution_count": 116,
   "metadata": {},
   "outputs": [
    {
     "name": "stdout",
     "output_type": "stream",
     "text": [
      "2015-10-12\n",
      "<class 'str'>\n",
      "2015-10-12\n",
      "<class 'datetime.date'>\n"
     ]
    }
   ],
   "source": [
    "# example look at the types of date in the dataframe\n",
    "d = df['Date'][0]\n",
    "print(d)\n",
    "print(type(d))\n",
    "date_time_obj = datetime.datetime.strptime(d, '%Y-%m-%d').date()\n",
    "print(date_time_obj)\n",
    "print(type(date_time_obj))"
   ]
  },
  {
   "cell_type": "code",
   "execution_count": 117,
   "metadata": {},
   "outputs": [],
   "source": [
    "dates = pd.Series([datetime.datetime.strptime(dt, '%Y-%m-%d').date() for dt in list(df['Date'])])"
   ]
  },
  {
   "cell_type": "code",
   "execution_count": 118,
   "metadata": {},
   "outputs": [],
   "source": [
    "# and now we reassign our Date column to be this series we've created with datetime objects\n",
    "df['Date'] = dates"
   ]
  },
  {
   "cell_type": "code",
   "execution_count": 119,
   "metadata": {},
   "outputs": [
    {
     "data": {
      "text/html": [
       "<div>\n",
       "<style scoped>\n",
       "    .dataframe tbody tr th:only-of-type {\n",
       "        vertical-align: middle;\n",
       "    }\n",
       "\n",
       "    .dataframe tbody tr th {\n",
       "        vertical-align: top;\n",
       "    }\n",
       "\n",
       "    .dataframe thead th {\n",
       "        text-align: right;\n",
       "    }\n",
       "</style>\n",
       "<table border=\"1\" class=\"dataframe\">\n",
       "  <thead>\n",
       "    <tr style=\"text-align: right;\">\n",
       "      <th></th>\n",
       "      <th>Date</th>\n",
       "      <th>Open</th>\n",
       "      <th>High</th>\n",
       "      <th>Low</th>\n",
       "      <th>Close</th>\n",
       "      <th>Adj Close</th>\n",
       "      <th>Volume</th>\n",
       "      <th>moving_avg_50</th>\n",
       "      <th>moving_avg_100</th>\n",
       "    </tr>\n",
       "  </thead>\n",
       "  <tbody>\n",
       "    <tr>\n",
       "      <th>0</th>\n",
       "      <td>2015-10-12</td>\n",
       "      <td>2015.650024</td>\n",
       "      <td>2018.660034</td>\n",
       "      <td>2010.550049</td>\n",
       "      <td>2017.459961</td>\n",
       "      <td>2017.459961</td>\n",
       "      <td>2893250000</td>\n",
       "      <td>NaN</td>\n",
       "      <td>NaN</td>\n",
       "    </tr>\n",
       "    <tr>\n",
       "      <th>1</th>\n",
       "      <td>2015-10-13</td>\n",
       "      <td>2015.000000</td>\n",
       "      <td>2022.339966</td>\n",
       "      <td>2001.780029</td>\n",
       "      <td>2003.689941</td>\n",
       "      <td>2003.689941</td>\n",
       "      <td>3401920000</td>\n",
       "      <td>2017.459961</td>\n",
       "      <td>2017.459961</td>\n",
       "    </tr>\n",
       "    <tr>\n",
       "      <th>2</th>\n",
       "      <td>2015-10-14</td>\n",
       "      <td>2003.660034</td>\n",
       "      <td>2009.560059</td>\n",
       "      <td>1990.729980</td>\n",
       "      <td>1994.239990</td>\n",
       "      <td>1994.239990</td>\n",
       "      <td>3644590000</td>\n",
       "      <td>2010.574951</td>\n",
       "      <td>2010.574951</td>\n",
       "    </tr>\n",
       "    <tr>\n",
       "      <th>3</th>\n",
       "      <td>2015-10-15</td>\n",
       "      <td>1996.469971</td>\n",
       "      <td>2024.150024</td>\n",
       "      <td>1996.469971</td>\n",
       "      <td>2023.859985</td>\n",
       "      <td>2023.859985</td>\n",
       "      <td>3746290000</td>\n",
       "      <td>2005.129964</td>\n",
       "      <td>2005.129964</td>\n",
       "    </tr>\n",
       "    <tr>\n",
       "      <th>4</th>\n",
       "      <td>2015-10-16</td>\n",
       "      <td>2024.369995</td>\n",
       "      <td>2033.540039</td>\n",
       "      <td>2020.459961</td>\n",
       "      <td>2033.109985</td>\n",
       "      <td>2033.109985</td>\n",
       "      <td>3595430000</td>\n",
       "      <td>2009.812469</td>\n",
       "      <td>2009.812469</td>\n",
       "    </tr>\n",
       "  </tbody>\n",
       "</table>\n",
       "</div>"
      ],
      "text/plain": [
       "         Date         Open         High          Low        Close  \\\n",
       "0  2015-10-12  2015.650024  2018.660034  2010.550049  2017.459961   \n",
       "1  2015-10-13  2015.000000  2022.339966  2001.780029  2003.689941   \n",
       "2  2015-10-14  2003.660034  2009.560059  1990.729980  1994.239990   \n",
       "3  2015-10-15  1996.469971  2024.150024  1996.469971  2023.859985   \n",
       "4  2015-10-16  2024.369995  2033.540039  2020.459961  2033.109985   \n",
       "\n",
       "     Adj Close      Volume  moving_avg_50  moving_avg_100  \n",
       "0  2017.459961  2893250000            NaN             NaN  \n",
       "1  2003.689941  3401920000    2017.459961     2017.459961  \n",
       "2  1994.239990  3644590000    2010.574951     2010.574951  \n",
       "3  2023.859985  3746290000    2005.129964     2005.129964  \n",
       "4  2033.109985  3595430000    2009.812469     2009.812469  "
      ]
     },
     "execution_count": 119,
     "metadata": {},
     "output_type": "execute_result"
    }
   ],
   "source": [
    "df.head()"
   ]
  },
  {
   "cell_type": "markdown",
   "metadata": {},
   "source": [
    "#### We want to add features for month number (account for seasonal trends), day in year (for quarterly trends), days until nearest election (for election-related trends)"
   ]
  },
  {
   "cell_type": "code",
   "execution_count": 120,
   "metadata": {},
   "outputs": [
    {
     "name": "stdout",
     "output_type": "stream",
     "text": [
      "<class 'datetime.date'>\n",
      "10\n",
      "<class 'int'>\n",
      "285\n",
      "1\n"
     ]
    }
   ],
   "source": [
    "# using datetime to get the month from a date\n",
    "d = df['Date'][0]\n",
    "print(type(d))\n",
    "print(d.month)\n",
    "print(type(d.month))\n",
    "\n",
    "# using datetime to get number of day in the year\n",
    "day_of_year = d.timetuple().tm_yday\n",
    "print(day_of_year)\n",
    "\n",
    "test_day = datetime.datetime.strptime('2016-1-1', '%Y-%m-%d').date()\n",
    "print(test_day.timetuple().tm_yday)"
   ]
  },
  {
   "cell_type": "code",
   "execution_count": 121,
   "metadata": {},
   "outputs": [],
   "source": [
    "# add these features to the dataframe:\n",
    "month = pd.Series([d.month for d in df['Date']])\n",
    "day = pd.Series([d.timetuple().tm_yday for d in df['Date']])\n",
    "\n",
    "df['Month'] = month\n",
    "df['Day'] = day"
   ]
  },
  {
   "cell_type": "code",
   "execution_count": 122,
   "metadata": {},
   "outputs": [
    {
     "name": "stdout",
     "output_type": "stream",
     "text": [
      "         Date         Open         High          Low        Close  \\\n",
      "0  2015-10-12  2015.650024  2018.660034  2010.550049  2017.459961   \n",
      "1  2015-10-13  2015.000000  2022.339966  2001.780029  2003.689941   \n",
      "2  2015-10-14  2003.660034  2009.560059  1990.729980  1994.239990   \n",
      "3  2015-10-15  1996.469971  2024.150024  1996.469971  2023.859985   \n",
      "4  2015-10-16  2024.369995  2033.540039  2020.459961  2033.109985   \n",
      "\n",
      "     Adj Close      Volume  moving_avg_50  moving_avg_100  Month  Day  \n",
      "0  2017.459961  2893250000            NaN             NaN     10  285  \n",
      "1  2003.689941  3401920000    2017.459961     2017.459961     10  286  \n",
      "2  1994.239990  3644590000    2010.574951     2010.574951     10  287  \n",
      "3  2023.859985  3746290000    2005.129964     2005.129964     10  288  \n",
      "4  2033.109985  3595430000    2009.812469     2009.812469     10  289  \n"
     ]
    }
   ],
   "source": [
    "print(df.head())"
   ]
  },
  {
   "cell_type": "code",
   "execution_count": 123,
   "metadata": {},
   "outputs": [],
   "source": [
    "# time come up with days from nearest election we'll hardcode the three election dates that\n",
    "# surround any point in this 5-year window:\n",
    "e1 = datetime.datetime.strptime('2012-11-6', '%Y-%m-%d').date()\n",
    "e2 = datetime.datetime.strptime('2016-11-8', '%Y-%m-%d').date()\n",
    "e3 = datetime.datetime.strptime('2020-11-3', '%Y-%m-%d').date()"
   ]
  },
  {
   "cell_type": "code",
   "execution_count": 124,
   "metadata": {},
   "outputs": [
    {
     "name": "stdout",
     "output_type": "stream",
     "text": [
      "-1\n",
      "<class 'int'>\n"
     ]
    }
   ],
   "source": [
    "# ... and for each day we want the number of days until the nearest election\n",
    "# ----> for five days before the value would be 5, and forr five days after the\n",
    "# value would be -5. This will give us the ability to measure distance from election\n",
    "# while still distinguishing between a date being before or after an election\n",
    "\n",
    "# For election date e and date d, this will be expressed as e-d for e-d with the minimum absolute value\n",
    "# between the three measures (|e1-d|, |e2-d|, |e3-d|)\n",
    "\n",
    "# quick look at taking the difference of datetime objects:\n",
    "d1 = df['Date'][0]\n",
    "d2 = df['Date'][1]\n",
    "diff = d1-d2\n",
    "print(diff.days)\n",
    "print(type(diff.days))"
   ]
  },
  {
   "cell_type": "code",
   "execution_count": 125,
   "metadata": {},
   "outputs": [
    {
     "name": "stdout",
     "output_type": "stream",
     "text": [
      "393\n"
     ]
    }
   ],
   "source": [
    "# for day d1 the operation looks like this:\n",
    "pairs = [(e1,d1),(e2,d1),(e3,d1)]\n",
    "closest = min(pairs, key=lambda x: np.abs((x[0]-x[1]).days))\n",
    "print((closest[0]-closest[1]).days)"
   ]
  },
  {
   "cell_type": "code",
   "execution_count": 126,
   "metadata": {},
   "outputs": [],
   "source": [
    "# we'll create this feature by iterating through our date feature and calculating this element-wise\n",
    "days_to_election = []\n",
    "for d in df['Date']:\n",
    "    pairs = [(e1,d),(e2,d),(e3,d)]\n",
    "    closest = min(pairs, key=lambda x: np.abs((x[0]-x[1]).days))\n",
    "    diff = (closest[0]-closest[1]).days\n",
    "    days_to_election.append(diff)\n",
    "    \n",
    "days_to_election = pd.Series(days_to_election)"
   ]
  },
  {
   "cell_type": "code",
   "execution_count": 127,
   "metadata": {},
   "outputs": [],
   "source": [
    "df['Days_to_election'] = days_to_election"
   ]
  },
  {
   "cell_type": "code",
   "execution_count": 128,
   "metadata": {},
   "outputs": [
    {
     "name": "stdout",
     "output_type": "stream",
     "text": [
      "0    393\n",
      "1    392\n",
      "2    391\n",
      "3    390\n",
      "4    389\n",
      "Name: Days_to_election, dtype: int64\n",
      "1254    29\n",
      "1255    28\n",
      "1256    27\n",
      "1257    26\n",
      "1258    25\n",
      "Name: Days_to_election, dtype: int64\n"
     ]
    }
   ],
   "source": [
    "print(df['Days_to_election'].head())\n",
    "print(df['Days_to_election'].tail())"
   ]
  },
  {
   "cell_type": "markdown",
   "metadata": {},
   "source": [
    "### Now we'll add some weather related data\n",
    "#### We're getting this data from a NOAA dataset describing the average temperature (in Farenheit) in each month from 2015-2020, as well as the departure from from the mean (relative to month)"
   ]
  },
  {
   "cell_type": "code",
   "execution_count": 129,
   "metadata": {},
   "outputs": [
    {
     "name": "stdout",
     "output_type": "stream",
     "text": [
      "     Date  Value  Anomaly\n",
      "0  201501  33.08    -0.11\n",
      "1  201502  32.99    -3.20\n",
      "2  201503  45.39     0.70\n",
      "3  201504  53.24     1.08\n",
      "4  201505  60.84    -0.43\n",
      "      Date  Value  Anomaly\n",
      "64  202005  60.87    -0.40\n",
      "65  202006  70.29    -0.39\n",
      "66  202007  75.65     0.56\n",
      "67  202008  74.71     1.30\n",
      "68  202009  65.98    -1.33\n"
     ]
    }
   ],
   "source": [
    "# using skiprows parameter to skip the documentation info in the csv\n",
    "wthr = pd.read_csv('../data/110-tavg-all-9-2015-2020.csv', skiprows=4)\n",
    "print(wthr.head())\n",
    "print(wthr.tail())"
   ]
  },
  {
   "cell_type": "code",
   "execution_count": 130,
   "metadata": {},
   "outputs": [],
   "source": [
    "# we'll add this to out dataset by giving each monthly value for each day in that month\n",
    "# ----> additionally we need to cut off the months before october 2015, and because this\n",
    "# ----> only has data through september 2020, we will extend that value into october 2020"
   ]
  },
  {
   "cell_type": "code",
   "execution_count": 131,
   "metadata": {},
   "outputs": [],
   "source": [
    "# for each point in our dataset, we'll get our corresponding weather values in 'Value' and\n",
    "# 'Anomaly' in the YYYYMM row\n",
    "# ---> we'll traverse through and populate these lists\n",
    "vals = []\n",
    "anom = []\n",
    "for date in df['Date']:\n",
    "    # the wthr dataset stores the dataset as ints of the form:\n",
    "    yr = str(date.year)\n",
    "    mn = str(date.month)\n",
    "    # prepend a zero if necessry\n",
    "    if len(mn)<2:\n",
    "        mn = '0'+mn\n",
    "    date_int = int(yr+mn)\n",
    "    \n",
    "    v = list(wthr.loc[wthr['Date'] == date_int]['Value'])\n",
    "    if len(v)>0:\n",
    "        vals.append(v[0])\n",
    "    else: # we get an error when we try to get data for 2020-10, so we'll grab from 2020-9 there\n",
    "        sept = 202009\n",
    "        vals.append(list(wthr.loc[wthr['Date'] == sept]['Value'])[0])\n",
    "\n",
    "    a = list(wthr.loc[wthr['Date'] == date_int]['Anomaly'])\n",
    "    if len(a)>0:\n",
    "        anom.append(a[0])\n",
    "    else:\n",
    "        sept = 202009\n",
    "        anom.append(list(wthr.loc[wthr['Date'] == sept]['Anomaly'])[0])\n"
   ]
  },
  {
   "cell_type": "code",
   "execution_count": 132,
   "metadata": {},
   "outputs": [
    {
     "name": "stdout",
     "output_type": "stream",
     "text": [
      "1259\n",
      "1259\n",
      "1.96\n",
      "57.24\n"
     ]
    }
   ],
   "source": [
    "print(len(anom))\n",
    "print(len(vals))\n",
    "print(anom[0])\n",
    "print(vals[0])"
   ]
  },
  {
   "cell_type": "code",
   "execution_count": 133,
   "metadata": {},
   "outputs": [],
   "source": [
    "# adding these features to the dataset\n",
    "df['Avg_month_temp'] = pd.Series(vals)\n",
    "df['Avg_month_temp_dev'] = pd.Series(anom)"
   ]
  },
  {
   "cell_type": "code",
   "execution_count": 134,
   "metadata": {},
   "outputs": [
    {
     "data": {
      "text/html": [
       "<div>\n",
       "<style scoped>\n",
       "    .dataframe tbody tr th:only-of-type {\n",
       "        vertical-align: middle;\n",
       "    }\n",
       "\n",
       "    .dataframe tbody tr th {\n",
       "        vertical-align: top;\n",
       "    }\n",
       "\n",
       "    .dataframe thead th {\n",
       "        text-align: right;\n",
       "    }\n",
       "</style>\n",
       "<table border=\"1\" class=\"dataframe\">\n",
       "  <thead>\n",
       "    <tr style=\"text-align: right;\">\n",
       "      <th></th>\n",
       "      <th>Date</th>\n",
       "      <th>Open</th>\n",
       "      <th>High</th>\n",
       "      <th>Low</th>\n",
       "      <th>Close</th>\n",
       "      <th>Adj Close</th>\n",
       "      <th>Volume</th>\n",
       "      <th>moving_avg_50</th>\n",
       "      <th>moving_avg_100</th>\n",
       "      <th>Month</th>\n",
       "      <th>Day</th>\n",
       "      <th>Days_to_election</th>\n",
       "      <th>Avg_month_temp</th>\n",
       "      <th>Avg_month_temp_dev</th>\n",
       "    </tr>\n",
       "  </thead>\n",
       "  <tbody>\n",
       "    <tr>\n",
       "      <th>1254</th>\n",
       "      <td>2020-10-05</td>\n",
       "      <td>3367.270020</td>\n",
       "      <td>3409.570068</td>\n",
       "      <td>3367.270020</td>\n",
       "      <td>3408.600098</td>\n",
       "      <td>3408.600098</td>\n",
       "      <td>3686920000</td>\n",
       "      <td>3365.464209</td>\n",
       "      <td>3234.803010</td>\n",
       "      <td>10</td>\n",
       "      <td>279</td>\n",
       "      <td>29</td>\n",
       "      <td>65.98</td>\n",
       "      <td>-1.33</td>\n",
       "    </tr>\n",
       "    <tr>\n",
       "      <th>1255</th>\n",
       "      <td>2020-10-06</td>\n",
       "      <td>3408.739990</td>\n",
       "      <td>3431.560059</td>\n",
       "      <td>3354.540039</td>\n",
       "      <td>3360.969971</td>\n",
       "      <td>3360.969971</td>\n",
       "      <td>4443380000</td>\n",
       "      <td>3367.895410</td>\n",
       "      <td>3239.887710</td>\n",
       "      <td>10</td>\n",
       "      <td>280</td>\n",
       "      <td>28</td>\n",
       "      <td>65.98</td>\n",
       "      <td>-1.33</td>\n",
       "    </tr>\n",
       "    <tr>\n",
       "      <th>1256</th>\n",
       "      <td>2020-10-07</td>\n",
       "      <td>3384.560059</td>\n",
       "      <td>3426.260010</td>\n",
       "      <td>3384.560059</td>\n",
       "      <td>3419.439941</td>\n",
       "      <td>3419.439941</td>\n",
       "      <td>3807830000</td>\n",
       "      <td>3371.915410</td>\n",
       "      <td>3245.445110</td>\n",
       "      <td>10</td>\n",
       "      <td>281</td>\n",
       "      <td>27</td>\n",
       "      <td>65.98</td>\n",
       "      <td>-1.33</td>\n",
       "    </tr>\n",
       "    <tr>\n",
       "      <th>1257</th>\n",
       "      <td>2020-10-08</td>\n",
       "      <td>3434.280029</td>\n",
       "      <td>3447.280029</td>\n",
       "      <td>3428.149902</td>\n",
       "      <td>3446.830078</td>\n",
       "      <td>3446.830078</td>\n",
       "      <td>3856190000</td>\n",
       "      <td>3375.683213</td>\n",
       "      <td>3250.374312</td>\n",
       "      <td>10</td>\n",
       "      <td>282</td>\n",
       "      <td>26</td>\n",
       "      <td>65.98</td>\n",
       "      <td>-1.33</td>\n",
       "    </tr>\n",
       "    <tr>\n",
       "      <th>1258</th>\n",
       "      <td>2020-10-09</td>\n",
       "      <td>3459.669922</td>\n",
       "      <td>3482.340088</td>\n",
       "      <td>3458.070068</td>\n",
       "      <td>3477.139893</td>\n",
       "      <td>3477.139893</td>\n",
       "      <td>3939060000</td>\n",
       "      <td>3380.301611</td>\n",
       "      <td>3255.916311</td>\n",
       "      <td>10</td>\n",
       "      <td>283</td>\n",
       "      <td>25</td>\n",
       "      <td>65.98</td>\n",
       "      <td>-1.33</td>\n",
       "    </tr>\n",
       "  </tbody>\n",
       "</table>\n",
       "</div>"
      ],
      "text/plain": [
       "            Date         Open         High          Low        Close  \\\n",
       "1254  2020-10-05  3367.270020  3409.570068  3367.270020  3408.600098   \n",
       "1255  2020-10-06  3408.739990  3431.560059  3354.540039  3360.969971   \n",
       "1256  2020-10-07  3384.560059  3426.260010  3384.560059  3419.439941   \n",
       "1257  2020-10-08  3434.280029  3447.280029  3428.149902  3446.830078   \n",
       "1258  2020-10-09  3459.669922  3482.340088  3458.070068  3477.139893   \n",
       "\n",
       "        Adj Close      Volume  moving_avg_50  moving_avg_100  Month  Day  \\\n",
       "1254  3408.600098  3686920000    3365.464209     3234.803010     10  279   \n",
       "1255  3360.969971  4443380000    3367.895410     3239.887710     10  280   \n",
       "1256  3419.439941  3807830000    3371.915410     3245.445110     10  281   \n",
       "1257  3446.830078  3856190000    3375.683213     3250.374312     10  282   \n",
       "1258  3477.139893  3939060000    3380.301611     3255.916311     10  283   \n",
       "\n",
       "      Days_to_election  Avg_month_temp  Avg_month_temp_dev  \n",
       "1254                29           65.98               -1.33  \n",
       "1255                28           65.98               -1.33  \n",
       "1256                27           65.98               -1.33  \n",
       "1257                26           65.98               -1.33  \n",
       "1258                25           65.98               -1.33  "
      ]
     },
     "execution_count": 134,
     "metadata": {},
     "output_type": "execute_result"
    }
   ],
   "source": [
    "df.tail()"
   ]
  },
  {
   "cell_type": "markdown",
   "metadata": {},
   "source": [
    "### Adding a consumer confidence index from the OECD\n",
    "#### From source: \"An indicator above 100 signals a boost in the consumers’ confidence towards the future economic situation, as a consequence of which they are less prone to save, and more inclined to spend money on major purchases in the next 12 months. Values below 100 indicate a pessimistic attitude towards future developments in the economy, possibly resulting in a tendency to save more and consume less.\""
   ]
  },
  {
   "cell_type": "code",
   "execution_count": 135,
   "metadata": {},
   "outputs": [
    {
     "name": "stdout",
     "output_type": "stream",
     "text": [
      "     LOCATION INDICATOR   SUBJECT    MEASURE FREQUENCY     TIME     Value  \\\n",
      "1051      USA       CCI  AMPLITUD  LTRENDIDX         M  2014-01  99.25951   \n",
      "1052      USA       CCI  AMPLITUD  LTRENDIDX         M  2014-02  99.33441   \n",
      "1053      USA       CCI  AMPLITUD  LTRENDIDX         M  2014-03  99.36888   \n",
      "1054      USA       CCI  AMPLITUD  LTRENDIDX         M  2014-04  99.44692   \n",
      "1055      USA       CCI  AMPLITUD  LTRENDIDX         M  2014-05  99.43237   \n",
      "\n",
      "      Flag Codes  \n",
      "1051         NaN  \n",
      "1052         NaN  \n",
      "1053         NaN  \n",
      "1054         NaN  \n",
      "1055         NaN  \n",
      "     LOCATION INDICATOR   SUBJECT    MEASURE FREQUENCY     TIME     Value  \\\n",
      "1127      USA       CCI  AMPLITUD  LTRENDIDX         M  2020-05  98.44251   \n",
      "1128      USA       CCI  AMPLITUD  LTRENDIDX         M  2020-06  98.37772   \n",
      "1129      USA       CCI  AMPLITUD  LTRENDIDX         M  2020-07  98.36588   \n",
      "1130      USA       CCI  AMPLITUD  LTRENDIDX         M  2020-08  98.53522   \n",
      "1131      USA       CCI  AMPLITUD  LTRENDIDX         M  2020-09  98.85777   \n",
      "\n",
      "      Flag Codes  \n",
      "1127         NaN  \n",
      "1128         NaN  \n",
      "1129         NaN  \n",
      "1130         NaN  \n",
      "1131         NaN  \n"
     ]
    }
   ],
   "source": [
    "cci = pd.read_csv('../data/DP_LIVE_13102020153116484.csv')\n",
    "# ... and this dataset has international data so we'll pick out the USA data\n",
    "consumer_sent = cci.loc[cci['LOCATION'] == 'USA']\n",
    "print(consumer_sent.head())\n",
    "print(consumer_sent.tail())"
   ]
  },
  {
   "cell_type": "code",
   "execution_count": 136,
   "metadata": {},
   "outputs": [
    {
     "data": {
      "text/plain": [
       "str"
      ]
     },
     "execution_count": 136,
     "metadata": {},
     "output_type": "execute_result"
    }
   ],
   "source": [
    "# and once again we have monthly data with string dates so let's traverse through\n",
    "# our financial dataset grabbing the month's values we want\n",
    "# ----> NB: we're missing 2020-10 again so we have to handle that individually\n",
    "type(list(consumer_sent['TIME'])[10])"
   ]
  },
  {
   "cell_type": "code",
   "execution_count": 137,
   "metadata": {},
   "outputs": [
    {
     "data": {
      "text/plain": [
       "'2020-09'"
      ]
     },
     "execution_count": 137,
     "metadata": {},
     "output_type": "execute_result"
    }
   ],
   "source": [
    "list(consumer_sent['TIME'])[-1]"
   ]
  },
  {
   "cell_type": "code",
   "execution_count": 138,
   "metadata": {},
   "outputs": [],
   "source": [
    "consumer_ind = []\n",
    "\n",
    "for date in df['Date']:\n",
    "    # the wthr dataset stores the dataset as ints of the form:\n",
    "    yr = str(date.year)\n",
    "    mn = str(date.month)\n",
    "    \n",
    "    date_str = yr+'-'+mn\n",
    "    \n",
    "    ci = list(consumer_sent.loc[consumer_sent['TIME'] == date_str]['Value'])\n",
    "    if len(ci)>0:\n",
    "        consumer_ind.append(ci[0])\n",
    "    else: # we get an error when we try to get data for 2020-10, so we'll grab from 2020-9 there\n",
    "        sept = '2020-09'\n",
    "        consumer_ind.append(list(consumer_sent.loc[consumer_sent['TIME'] == sept]['Value'])[0])"
   ]
  },
  {
   "cell_type": "code",
   "execution_count": 139,
   "metadata": {},
   "outputs": [],
   "source": [
    "# add this to the dataset\n",
    "df['CCI'] = pd.Series(consumer_ind)"
   ]
  },
  {
   "cell_type": "code",
   "execution_count": 140,
   "metadata": {},
   "outputs": [
    {
     "data": {
      "text/html": [
       "<div>\n",
       "<style scoped>\n",
       "    .dataframe tbody tr th:only-of-type {\n",
       "        vertical-align: middle;\n",
       "    }\n",
       "\n",
       "    .dataframe tbody tr th {\n",
       "        vertical-align: top;\n",
       "    }\n",
       "\n",
       "    .dataframe thead th {\n",
       "        text-align: right;\n",
       "    }\n",
       "</style>\n",
       "<table border=\"1\" class=\"dataframe\">\n",
       "  <thead>\n",
       "    <tr style=\"text-align: right;\">\n",
       "      <th></th>\n",
       "      <th>Date</th>\n",
       "      <th>Open</th>\n",
       "      <th>High</th>\n",
       "      <th>Low</th>\n",
       "      <th>Close</th>\n",
       "      <th>Adj Close</th>\n",
       "      <th>Volume</th>\n",
       "      <th>moving_avg_50</th>\n",
       "      <th>moving_avg_100</th>\n",
       "      <th>Month</th>\n",
       "      <th>Day</th>\n",
       "      <th>Days_to_election</th>\n",
       "      <th>Avg_month_temp</th>\n",
       "      <th>Avg_month_temp_dev</th>\n",
       "      <th>CCI</th>\n",
       "    </tr>\n",
       "  </thead>\n",
       "  <tbody>\n",
       "    <tr>\n",
       "      <th>1254</th>\n",
       "      <td>2020-10-05</td>\n",
       "      <td>3367.270020</td>\n",
       "      <td>3409.570068</td>\n",
       "      <td>3367.270020</td>\n",
       "      <td>3408.600098</td>\n",
       "      <td>3408.600098</td>\n",
       "      <td>3686920000</td>\n",
       "      <td>3365.464209</td>\n",
       "      <td>3234.803010</td>\n",
       "      <td>10</td>\n",
       "      <td>279</td>\n",
       "      <td>29</td>\n",
       "      <td>65.98</td>\n",
       "      <td>-1.33</td>\n",
       "      <td>98.85777</td>\n",
       "    </tr>\n",
       "    <tr>\n",
       "      <th>1255</th>\n",
       "      <td>2020-10-06</td>\n",
       "      <td>3408.739990</td>\n",
       "      <td>3431.560059</td>\n",
       "      <td>3354.540039</td>\n",
       "      <td>3360.969971</td>\n",
       "      <td>3360.969971</td>\n",
       "      <td>4443380000</td>\n",
       "      <td>3367.895410</td>\n",
       "      <td>3239.887710</td>\n",
       "      <td>10</td>\n",
       "      <td>280</td>\n",
       "      <td>28</td>\n",
       "      <td>65.98</td>\n",
       "      <td>-1.33</td>\n",
       "      <td>98.85777</td>\n",
       "    </tr>\n",
       "    <tr>\n",
       "      <th>1256</th>\n",
       "      <td>2020-10-07</td>\n",
       "      <td>3384.560059</td>\n",
       "      <td>3426.260010</td>\n",
       "      <td>3384.560059</td>\n",
       "      <td>3419.439941</td>\n",
       "      <td>3419.439941</td>\n",
       "      <td>3807830000</td>\n",
       "      <td>3371.915410</td>\n",
       "      <td>3245.445110</td>\n",
       "      <td>10</td>\n",
       "      <td>281</td>\n",
       "      <td>27</td>\n",
       "      <td>65.98</td>\n",
       "      <td>-1.33</td>\n",
       "      <td>98.85777</td>\n",
       "    </tr>\n",
       "    <tr>\n",
       "      <th>1257</th>\n",
       "      <td>2020-10-08</td>\n",
       "      <td>3434.280029</td>\n",
       "      <td>3447.280029</td>\n",
       "      <td>3428.149902</td>\n",
       "      <td>3446.830078</td>\n",
       "      <td>3446.830078</td>\n",
       "      <td>3856190000</td>\n",
       "      <td>3375.683213</td>\n",
       "      <td>3250.374312</td>\n",
       "      <td>10</td>\n",
       "      <td>282</td>\n",
       "      <td>26</td>\n",
       "      <td>65.98</td>\n",
       "      <td>-1.33</td>\n",
       "      <td>98.85777</td>\n",
       "    </tr>\n",
       "    <tr>\n",
       "      <th>1258</th>\n",
       "      <td>2020-10-09</td>\n",
       "      <td>3459.669922</td>\n",
       "      <td>3482.340088</td>\n",
       "      <td>3458.070068</td>\n",
       "      <td>3477.139893</td>\n",
       "      <td>3477.139893</td>\n",
       "      <td>3939060000</td>\n",
       "      <td>3380.301611</td>\n",
       "      <td>3255.916311</td>\n",
       "      <td>10</td>\n",
       "      <td>283</td>\n",
       "      <td>25</td>\n",
       "      <td>65.98</td>\n",
       "      <td>-1.33</td>\n",
       "      <td>98.85777</td>\n",
       "    </tr>\n",
       "  </tbody>\n",
       "</table>\n",
       "</div>"
      ],
      "text/plain": [
       "            Date         Open         High          Low        Close  \\\n",
       "1254  2020-10-05  3367.270020  3409.570068  3367.270020  3408.600098   \n",
       "1255  2020-10-06  3408.739990  3431.560059  3354.540039  3360.969971   \n",
       "1256  2020-10-07  3384.560059  3426.260010  3384.560059  3419.439941   \n",
       "1257  2020-10-08  3434.280029  3447.280029  3428.149902  3446.830078   \n",
       "1258  2020-10-09  3459.669922  3482.340088  3458.070068  3477.139893   \n",
       "\n",
       "        Adj Close      Volume  moving_avg_50  moving_avg_100  Month  Day  \\\n",
       "1254  3408.600098  3686920000    3365.464209     3234.803010     10  279   \n",
       "1255  3360.969971  4443380000    3367.895410     3239.887710     10  280   \n",
       "1256  3419.439941  3807830000    3371.915410     3245.445110     10  281   \n",
       "1257  3446.830078  3856190000    3375.683213     3250.374312     10  282   \n",
       "1258  3477.139893  3939060000    3380.301611     3255.916311     10  283   \n",
       "\n",
       "      Days_to_election  Avg_month_temp  Avg_month_temp_dev       CCI  \n",
       "1254                29           65.98               -1.33  98.85777  \n",
       "1255                28           65.98               -1.33  98.85777  \n",
       "1256                27           65.98               -1.33  98.85777  \n",
       "1257                26           65.98               -1.33  98.85777  \n",
       "1258                25           65.98               -1.33  98.85777  "
      ]
     },
     "execution_count": 140,
     "metadata": {},
     "output_type": "execute_result"
    }
   ],
   "source": [
    "df.tail()"
   ]
  },
  {
   "cell_type": "markdown",
   "metadata": {},
   "source": [
    "### Lastly, we'll add a volatility index from FRED\n",
    "#### which \"measures market expectation of near term volatility conveyed by stock index option prices\""
   ]
  },
  {
   "cell_type": "markdown",
   "metadata": {},
   "source": [
    "#### NB: (there are missing values in this data but they only occur on dates not in our S&P data)"
   ]
  },
  {
   "cell_type": "code",
   "execution_count": 141,
   "metadata": {},
   "outputs": [
    {
     "name": "stdout",
     "output_type": "stream",
     "text": [
      "         DATE VIXCLS\n",
      "0  2015-10-12  16.17\n",
      "1  2015-10-13  17.67\n",
      "2  2015-10-14  18.03\n",
      "3  2015-10-15  16.05\n",
      "4  2015-10-16  15.05\n"
     ]
    }
   ],
   "source": [
    "# we were able to download by specific date range so this is alreay cut to the same date range and the S&P data\n",
    "vix = pd.read_csv('../data/VIXCLS.csv')\n",
    "print(vix.head())"
   ]
  },
  {
   "cell_type": "code",
   "execution_count": 142,
   "metadata": {},
   "outputs": [
    {
     "data": {
      "text/plain": [
       "str"
      ]
     },
     "execution_count": 142,
     "metadata": {},
     "output_type": "execute_result"
    }
   ],
   "source": [
    "# ... with string date types\n",
    "type(vix['DATE'][0])"
   ]
  },
  {
   "cell_type": "code",
   "execution_count": 143,
   "metadata": {},
   "outputs": [],
   "source": [
    "# cast the dates to datetime so we can do a left join on the dates in the main dataset:\n",
    "dates = pd.Series([datetime.datetime.strptime(dt, '%Y-%m-%d').date() for dt in list(vix['DATE'])])\n",
    "vix['DATE'] = dates"
   ]
  },
  {
   "cell_type": "code",
   "execution_count": 144,
   "metadata": {
    "scrolled": true
   },
   "outputs": [
    {
     "name": "stdout",
     "output_type": "stream",
     "text": [
      "         DATE VIXCLS\n",
      "0  2015-10-12  16.17\n",
      "1  2015-10-13  17.67\n",
      "2  2015-10-14  18.03\n",
      "3  2015-10-15  16.05\n",
      "4  2015-10-16  15.05\n"
     ]
    }
   ],
   "source": [
    "print(vix.head())"
   ]
  },
  {
   "cell_type": "code",
   "execution_count": 145,
   "metadata": {},
   "outputs": [],
   "source": [
    "df = df.merge(vix,how='left',left_on='Date',right_on='DATE')"
   ]
  },
  {
   "cell_type": "code",
   "execution_count": 146,
   "metadata": {},
   "outputs": [
    {
     "name": "stdout",
     "output_type": "stream",
     "text": [
      "<class 'str'>\n"
     ]
    }
   ],
   "source": [
    "# VIXCLS goes in as a string so we'll now cast that to a series of floats\n",
    "print(type(df['VIXCLS'][0]))"
   ]
  },
  {
   "cell_type": "code",
   "execution_count": 147,
   "metadata": {},
   "outputs": [],
   "source": [
    "# go into the df and switch VIX out for its float casted series\n",
    "df['VIXCLS'] = df['VIXCLS'].astype('float')"
   ]
  },
  {
   "cell_type": "code",
   "execution_count": 148,
   "metadata": {},
   "outputs": [
    {
     "name": "stdout",
     "output_type": "stream",
     "text": [
      "<class 'numpy.float64'>\n"
     ]
    }
   ],
   "source": [
    "# check that it stuck\n",
    "print(type(df['VIXCLS'][0]))"
   ]
  },
  {
   "cell_type": "code",
   "execution_count": 149,
   "metadata": {},
   "outputs": [],
   "source": [
    "# and we can get rid of the duplicate DATE column from the volatility data:\n",
    "df = df.drop(columns=['DATE'])"
   ]
  },
  {
   "cell_type": "code",
   "execution_count": 150,
   "metadata": {},
   "outputs": [
    {
     "data": {
      "text/html": [
       "<div>\n",
       "<style scoped>\n",
       "    .dataframe tbody tr th:only-of-type {\n",
       "        vertical-align: middle;\n",
       "    }\n",
       "\n",
       "    .dataframe tbody tr th {\n",
       "        vertical-align: top;\n",
       "    }\n",
       "\n",
       "    .dataframe thead th {\n",
       "        text-align: right;\n",
       "    }\n",
       "</style>\n",
       "<table border=\"1\" class=\"dataframe\">\n",
       "  <thead>\n",
       "    <tr style=\"text-align: right;\">\n",
       "      <th></th>\n",
       "      <th>Date</th>\n",
       "      <th>Open</th>\n",
       "      <th>High</th>\n",
       "      <th>Low</th>\n",
       "      <th>Close</th>\n",
       "      <th>Adj Close</th>\n",
       "      <th>Volume</th>\n",
       "      <th>moving_avg_50</th>\n",
       "      <th>moving_avg_100</th>\n",
       "      <th>Month</th>\n",
       "      <th>Day</th>\n",
       "      <th>Days_to_election</th>\n",
       "      <th>Avg_month_temp</th>\n",
       "      <th>Avg_month_temp_dev</th>\n",
       "      <th>CCI</th>\n",
       "      <th>VIXCLS</th>\n",
       "    </tr>\n",
       "  </thead>\n",
       "  <tbody>\n",
       "    <tr>\n",
       "      <th>1254</th>\n",
       "      <td>2020-10-05</td>\n",
       "      <td>3367.270020</td>\n",
       "      <td>3409.570068</td>\n",
       "      <td>3367.270020</td>\n",
       "      <td>3408.600098</td>\n",
       "      <td>3408.600098</td>\n",
       "      <td>3686920000</td>\n",
       "      <td>3365.464209</td>\n",
       "      <td>3234.803010</td>\n",
       "      <td>10</td>\n",
       "      <td>279</td>\n",
       "      <td>29</td>\n",
       "      <td>65.98</td>\n",
       "      <td>-1.33</td>\n",
       "      <td>98.85777</td>\n",
       "      <td>27.96</td>\n",
       "    </tr>\n",
       "    <tr>\n",
       "      <th>1255</th>\n",
       "      <td>2020-10-06</td>\n",
       "      <td>3408.739990</td>\n",
       "      <td>3431.560059</td>\n",
       "      <td>3354.540039</td>\n",
       "      <td>3360.969971</td>\n",
       "      <td>3360.969971</td>\n",
       "      <td>4443380000</td>\n",
       "      <td>3367.895410</td>\n",
       "      <td>3239.887710</td>\n",
       "      <td>10</td>\n",
       "      <td>280</td>\n",
       "      <td>28</td>\n",
       "      <td>65.98</td>\n",
       "      <td>-1.33</td>\n",
       "      <td>98.85777</td>\n",
       "      <td>29.48</td>\n",
       "    </tr>\n",
       "    <tr>\n",
       "      <th>1256</th>\n",
       "      <td>2020-10-07</td>\n",
       "      <td>3384.560059</td>\n",
       "      <td>3426.260010</td>\n",
       "      <td>3384.560059</td>\n",
       "      <td>3419.439941</td>\n",
       "      <td>3419.439941</td>\n",
       "      <td>3807830000</td>\n",
       "      <td>3371.915410</td>\n",
       "      <td>3245.445110</td>\n",
       "      <td>10</td>\n",
       "      <td>281</td>\n",
       "      <td>27</td>\n",
       "      <td>65.98</td>\n",
       "      <td>-1.33</td>\n",
       "      <td>98.85777</td>\n",
       "      <td>28.06</td>\n",
       "    </tr>\n",
       "    <tr>\n",
       "      <th>1257</th>\n",
       "      <td>2020-10-08</td>\n",
       "      <td>3434.280029</td>\n",
       "      <td>3447.280029</td>\n",
       "      <td>3428.149902</td>\n",
       "      <td>3446.830078</td>\n",
       "      <td>3446.830078</td>\n",
       "      <td>3856190000</td>\n",
       "      <td>3375.683213</td>\n",
       "      <td>3250.374312</td>\n",
       "      <td>10</td>\n",
       "      <td>282</td>\n",
       "      <td>26</td>\n",
       "      <td>65.98</td>\n",
       "      <td>-1.33</td>\n",
       "      <td>98.85777</td>\n",
       "      <td>26.36</td>\n",
       "    </tr>\n",
       "    <tr>\n",
       "      <th>1258</th>\n",
       "      <td>2020-10-09</td>\n",
       "      <td>3459.669922</td>\n",
       "      <td>3482.340088</td>\n",
       "      <td>3458.070068</td>\n",
       "      <td>3477.139893</td>\n",
       "      <td>3477.139893</td>\n",
       "      <td>3939060000</td>\n",
       "      <td>3380.301611</td>\n",
       "      <td>3255.916311</td>\n",
       "      <td>10</td>\n",
       "      <td>283</td>\n",
       "      <td>25</td>\n",
       "      <td>65.98</td>\n",
       "      <td>-1.33</td>\n",
       "      <td>98.85777</td>\n",
       "      <td>25.00</td>\n",
       "    </tr>\n",
       "  </tbody>\n",
       "</table>\n",
       "</div>"
      ],
      "text/plain": [
       "            Date         Open         High          Low        Close  \\\n",
       "1254  2020-10-05  3367.270020  3409.570068  3367.270020  3408.600098   \n",
       "1255  2020-10-06  3408.739990  3431.560059  3354.540039  3360.969971   \n",
       "1256  2020-10-07  3384.560059  3426.260010  3384.560059  3419.439941   \n",
       "1257  2020-10-08  3434.280029  3447.280029  3428.149902  3446.830078   \n",
       "1258  2020-10-09  3459.669922  3482.340088  3458.070068  3477.139893   \n",
       "\n",
       "        Adj Close      Volume  moving_avg_50  moving_avg_100  Month  Day  \\\n",
       "1254  3408.600098  3686920000    3365.464209     3234.803010     10  279   \n",
       "1255  3360.969971  4443380000    3367.895410     3239.887710     10  280   \n",
       "1256  3419.439941  3807830000    3371.915410     3245.445110     10  281   \n",
       "1257  3446.830078  3856190000    3375.683213     3250.374312     10  282   \n",
       "1258  3477.139893  3939060000    3380.301611     3255.916311     10  283   \n",
       "\n",
       "      Days_to_election  Avg_month_temp  Avg_month_temp_dev       CCI  VIXCLS  \n",
       "1254                29           65.98               -1.33  98.85777   27.96  \n",
       "1255                28           65.98               -1.33  98.85777   29.48  \n",
       "1256                27           65.98               -1.33  98.85777   28.06  \n",
       "1257                26           65.98               -1.33  98.85777   26.36  \n",
       "1258                25           65.98               -1.33  98.85777   25.00  "
      ]
     },
     "execution_count": 150,
     "metadata": {},
     "output_type": "execute_result"
    }
   ],
   "source": [
    "df.tail()"
   ]
  },
  {
   "cell_type": "markdown",
   "metadata": {},
   "source": [
    "#### Quick check below that our new volatility column doesn't have any missing values"
   ]
  },
  {
   "cell_type": "code",
   "execution_count": 151,
   "metadata": {},
   "outputs": [
    {
     "data": {
      "text/html": [
       "<div>\n",
       "<style scoped>\n",
       "    .dataframe tbody tr th:only-of-type {\n",
       "        vertical-align: middle;\n",
       "    }\n",
       "\n",
       "    .dataframe tbody tr th {\n",
       "        vertical-align: top;\n",
       "    }\n",
       "\n",
       "    .dataframe thead th {\n",
       "        text-align: right;\n",
       "    }\n",
       "</style>\n",
       "<table border=\"1\" class=\"dataframe\">\n",
       "  <thead>\n",
       "    <tr style=\"text-align: right;\">\n",
       "      <th></th>\n",
       "      <th>DATE</th>\n",
       "      <th>VIXCLS</th>\n",
       "    </tr>\n",
       "  </thead>\n",
       "  <tbody>\n",
       "    <tr>\n",
       "      <th>33</th>\n",
       "      <td>2015-11-26</td>\n",
       "      <td>.</td>\n",
       "    </tr>\n",
       "    <tr>\n",
       "      <th>54</th>\n",
       "      <td>2015-12-25</td>\n",
       "      <td>.</td>\n",
       "    </tr>\n",
       "    <tr>\n",
       "      <th>59</th>\n",
       "      <td>2016-01-01</td>\n",
       "      <td>.</td>\n",
       "    </tr>\n",
       "    <tr>\n",
       "      <th>70</th>\n",
       "      <td>2016-01-18</td>\n",
       "      <td>.</td>\n",
       "    </tr>\n",
       "    <tr>\n",
       "      <th>90</th>\n",
       "      <td>2016-02-15</td>\n",
       "      <td>.</td>\n",
       "    </tr>\n",
       "  </tbody>\n",
       "</table>\n",
       "</div>"
      ],
      "text/plain": [
       "          DATE VIXCLS\n",
       "33  2015-11-26      .\n",
       "54  2015-12-25      .\n",
       "59  2016-01-01      .\n",
       "70  2016-01-18      .\n",
       "90  2016-02-15      ."
      ]
     },
     "execution_count": 151,
     "metadata": {},
     "output_type": "execute_result"
    }
   ],
   "source": [
    "# now to deal with the missing values -- I believe they're just \".\"?\n",
    "vix.loc[vix['VIXCLS'] == '.'].head()"
   ]
  },
  {
   "cell_type": "code",
   "execution_count": 152,
   "metadata": {},
   "outputs": [
    {
     "data": {
      "text/plain": [
       "False"
      ]
     },
     "execution_count": 152,
     "metadata": {},
     "output_type": "execute_result"
    }
   ],
   "source": [
    "'.' in list(df['VIXCLS'])"
   ]
  },
  {
   "cell_type": "code",
   "execution_count": 153,
   "metadata": {},
   "outputs": [
    {
     "name": "stdout",
     "output_type": "stream",
     "text": [
      "1305\n",
      "1259\n",
      "46\n"
     ]
    }
   ],
   "source": [
    "print(len(vix))\n",
    "print(len(df))\n",
    "print(len(vix.loc[vix['VIXCLS'] == '.']))"
   ]
  },
  {
   "cell_type": "markdown",
   "metadata": {},
   "source": [
    "### Total dataset before preprocessing/normalization:"
   ]
  },
  {
   "cell_type": "code",
   "execution_count": 154,
   "metadata": {},
   "outputs": [
    {
     "data": {
      "text/html": [
       "<div>\n",
       "<style scoped>\n",
       "    .dataframe tbody tr th:only-of-type {\n",
       "        vertical-align: middle;\n",
       "    }\n",
       "\n",
       "    .dataframe tbody tr th {\n",
       "        vertical-align: top;\n",
       "    }\n",
       "\n",
       "    .dataframe thead th {\n",
       "        text-align: right;\n",
       "    }\n",
       "</style>\n",
       "<table border=\"1\" class=\"dataframe\">\n",
       "  <thead>\n",
       "    <tr style=\"text-align: right;\">\n",
       "      <th></th>\n",
       "      <th>Date</th>\n",
       "      <th>Open</th>\n",
       "      <th>High</th>\n",
       "      <th>Low</th>\n",
       "      <th>Close</th>\n",
       "      <th>Adj Close</th>\n",
       "      <th>Volume</th>\n",
       "      <th>moving_avg_50</th>\n",
       "      <th>moving_avg_100</th>\n",
       "      <th>Month</th>\n",
       "      <th>Day</th>\n",
       "      <th>Days_to_election</th>\n",
       "      <th>Avg_month_temp</th>\n",
       "      <th>Avg_month_temp_dev</th>\n",
       "      <th>CCI</th>\n",
       "      <th>VIXCLS</th>\n",
       "    </tr>\n",
       "  </thead>\n",
       "  <tbody>\n",
       "    <tr>\n",
       "      <th>0</th>\n",
       "      <td>2015-10-12</td>\n",
       "      <td>2015.650024</td>\n",
       "      <td>2018.660034</td>\n",
       "      <td>2010.550049</td>\n",
       "      <td>2017.459961</td>\n",
       "      <td>2017.459961</td>\n",
       "      <td>2893250000</td>\n",
       "      <td>NaN</td>\n",
       "      <td>NaN</td>\n",
       "      <td>10</td>\n",
       "      <td>285</td>\n",
       "      <td>393</td>\n",
       "      <td>57.24</td>\n",
       "      <td>1.96</td>\n",
       "      <td>100.39440</td>\n",
       "      <td>16.17</td>\n",
       "    </tr>\n",
       "    <tr>\n",
       "      <th>1</th>\n",
       "      <td>2015-10-13</td>\n",
       "      <td>2015.000000</td>\n",
       "      <td>2022.339966</td>\n",
       "      <td>2001.780029</td>\n",
       "      <td>2003.689941</td>\n",
       "      <td>2003.689941</td>\n",
       "      <td>3401920000</td>\n",
       "      <td>2017.459961</td>\n",
       "      <td>2017.459961</td>\n",
       "      <td>10</td>\n",
       "      <td>286</td>\n",
       "      <td>392</td>\n",
       "      <td>57.24</td>\n",
       "      <td>1.96</td>\n",
       "      <td>100.39440</td>\n",
       "      <td>17.67</td>\n",
       "    </tr>\n",
       "    <tr>\n",
       "      <th>2</th>\n",
       "      <td>2015-10-14</td>\n",
       "      <td>2003.660034</td>\n",
       "      <td>2009.560059</td>\n",
       "      <td>1990.729980</td>\n",
       "      <td>1994.239990</td>\n",
       "      <td>1994.239990</td>\n",
       "      <td>3644590000</td>\n",
       "      <td>2010.574951</td>\n",
       "      <td>2010.574951</td>\n",
       "      <td>10</td>\n",
       "      <td>287</td>\n",
       "      <td>391</td>\n",
       "      <td>57.24</td>\n",
       "      <td>1.96</td>\n",
       "      <td>100.39440</td>\n",
       "      <td>18.03</td>\n",
       "    </tr>\n",
       "    <tr>\n",
       "      <th>3</th>\n",
       "      <td>2015-10-15</td>\n",
       "      <td>1996.469971</td>\n",
       "      <td>2024.150024</td>\n",
       "      <td>1996.469971</td>\n",
       "      <td>2023.859985</td>\n",
       "      <td>2023.859985</td>\n",
       "      <td>3746290000</td>\n",
       "      <td>2005.129964</td>\n",
       "      <td>2005.129964</td>\n",
       "      <td>10</td>\n",
       "      <td>288</td>\n",
       "      <td>390</td>\n",
       "      <td>57.24</td>\n",
       "      <td>1.96</td>\n",
       "      <td>100.39440</td>\n",
       "      <td>16.05</td>\n",
       "    </tr>\n",
       "    <tr>\n",
       "      <th>4</th>\n",
       "      <td>2015-10-16</td>\n",
       "      <td>2024.369995</td>\n",
       "      <td>2033.540039</td>\n",
       "      <td>2020.459961</td>\n",
       "      <td>2033.109985</td>\n",
       "      <td>2033.109985</td>\n",
       "      <td>3595430000</td>\n",
       "      <td>2009.812469</td>\n",
       "      <td>2009.812469</td>\n",
       "      <td>10</td>\n",
       "      <td>289</td>\n",
       "      <td>389</td>\n",
       "      <td>57.24</td>\n",
       "      <td>1.96</td>\n",
       "      <td>100.39440</td>\n",
       "      <td>15.05</td>\n",
       "    </tr>\n",
       "    <tr>\n",
       "      <th>...</th>\n",
       "      <td>...</td>\n",
       "      <td>...</td>\n",
       "      <td>...</td>\n",
       "      <td>...</td>\n",
       "      <td>...</td>\n",
       "      <td>...</td>\n",
       "      <td>...</td>\n",
       "      <td>...</td>\n",
       "      <td>...</td>\n",
       "      <td>...</td>\n",
       "      <td>...</td>\n",
       "      <td>...</td>\n",
       "      <td>...</td>\n",
       "      <td>...</td>\n",
       "      <td>...</td>\n",
       "      <td>...</td>\n",
       "    </tr>\n",
       "    <tr>\n",
       "      <th>1254</th>\n",
       "      <td>2020-10-05</td>\n",
       "      <td>3367.270020</td>\n",
       "      <td>3409.570068</td>\n",
       "      <td>3367.270020</td>\n",
       "      <td>3408.600098</td>\n",
       "      <td>3408.600098</td>\n",
       "      <td>3686920000</td>\n",
       "      <td>3365.464209</td>\n",
       "      <td>3234.803010</td>\n",
       "      <td>10</td>\n",
       "      <td>279</td>\n",
       "      <td>29</td>\n",
       "      <td>65.98</td>\n",
       "      <td>-1.33</td>\n",
       "      <td>98.85777</td>\n",
       "      <td>27.96</td>\n",
       "    </tr>\n",
       "    <tr>\n",
       "      <th>1255</th>\n",
       "      <td>2020-10-06</td>\n",
       "      <td>3408.739990</td>\n",
       "      <td>3431.560059</td>\n",
       "      <td>3354.540039</td>\n",
       "      <td>3360.969971</td>\n",
       "      <td>3360.969971</td>\n",
       "      <td>4443380000</td>\n",
       "      <td>3367.895410</td>\n",
       "      <td>3239.887710</td>\n",
       "      <td>10</td>\n",
       "      <td>280</td>\n",
       "      <td>28</td>\n",
       "      <td>65.98</td>\n",
       "      <td>-1.33</td>\n",
       "      <td>98.85777</td>\n",
       "      <td>29.48</td>\n",
       "    </tr>\n",
       "    <tr>\n",
       "      <th>1256</th>\n",
       "      <td>2020-10-07</td>\n",
       "      <td>3384.560059</td>\n",
       "      <td>3426.260010</td>\n",
       "      <td>3384.560059</td>\n",
       "      <td>3419.439941</td>\n",
       "      <td>3419.439941</td>\n",
       "      <td>3807830000</td>\n",
       "      <td>3371.915410</td>\n",
       "      <td>3245.445110</td>\n",
       "      <td>10</td>\n",
       "      <td>281</td>\n",
       "      <td>27</td>\n",
       "      <td>65.98</td>\n",
       "      <td>-1.33</td>\n",
       "      <td>98.85777</td>\n",
       "      <td>28.06</td>\n",
       "    </tr>\n",
       "    <tr>\n",
       "      <th>1257</th>\n",
       "      <td>2020-10-08</td>\n",
       "      <td>3434.280029</td>\n",
       "      <td>3447.280029</td>\n",
       "      <td>3428.149902</td>\n",
       "      <td>3446.830078</td>\n",
       "      <td>3446.830078</td>\n",
       "      <td>3856190000</td>\n",
       "      <td>3375.683213</td>\n",
       "      <td>3250.374312</td>\n",
       "      <td>10</td>\n",
       "      <td>282</td>\n",
       "      <td>26</td>\n",
       "      <td>65.98</td>\n",
       "      <td>-1.33</td>\n",
       "      <td>98.85777</td>\n",
       "      <td>26.36</td>\n",
       "    </tr>\n",
       "    <tr>\n",
       "      <th>1258</th>\n",
       "      <td>2020-10-09</td>\n",
       "      <td>3459.669922</td>\n",
       "      <td>3482.340088</td>\n",
       "      <td>3458.070068</td>\n",
       "      <td>3477.139893</td>\n",
       "      <td>3477.139893</td>\n",
       "      <td>3939060000</td>\n",
       "      <td>3380.301611</td>\n",
       "      <td>3255.916311</td>\n",
       "      <td>10</td>\n",
       "      <td>283</td>\n",
       "      <td>25</td>\n",
       "      <td>65.98</td>\n",
       "      <td>-1.33</td>\n",
       "      <td>98.85777</td>\n",
       "      <td>25.00</td>\n",
       "    </tr>\n",
       "  </tbody>\n",
       "</table>\n",
       "<p>1259 rows × 16 columns</p>\n",
       "</div>"
      ],
      "text/plain": [
       "            Date         Open         High          Low        Close  \\\n",
       "0     2015-10-12  2015.650024  2018.660034  2010.550049  2017.459961   \n",
       "1     2015-10-13  2015.000000  2022.339966  2001.780029  2003.689941   \n",
       "2     2015-10-14  2003.660034  2009.560059  1990.729980  1994.239990   \n",
       "3     2015-10-15  1996.469971  2024.150024  1996.469971  2023.859985   \n",
       "4     2015-10-16  2024.369995  2033.540039  2020.459961  2033.109985   \n",
       "...          ...          ...          ...          ...          ...   \n",
       "1254  2020-10-05  3367.270020  3409.570068  3367.270020  3408.600098   \n",
       "1255  2020-10-06  3408.739990  3431.560059  3354.540039  3360.969971   \n",
       "1256  2020-10-07  3384.560059  3426.260010  3384.560059  3419.439941   \n",
       "1257  2020-10-08  3434.280029  3447.280029  3428.149902  3446.830078   \n",
       "1258  2020-10-09  3459.669922  3482.340088  3458.070068  3477.139893   \n",
       "\n",
       "        Adj Close      Volume  moving_avg_50  moving_avg_100  Month  Day  \\\n",
       "0     2017.459961  2893250000            NaN             NaN     10  285   \n",
       "1     2003.689941  3401920000    2017.459961     2017.459961     10  286   \n",
       "2     1994.239990  3644590000    2010.574951     2010.574951     10  287   \n",
       "3     2023.859985  3746290000    2005.129964     2005.129964     10  288   \n",
       "4     2033.109985  3595430000    2009.812469     2009.812469     10  289   \n",
       "...           ...         ...            ...             ...    ...  ...   \n",
       "1254  3408.600098  3686920000    3365.464209     3234.803010     10  279   \n",
       "1255  3360.969971  4443380000    3367.895410     3239.887710     10  280   \n",
       "1256  3419.439941  3807830000    3371.915410     3245.445110     10  281   \n",
       "1257  3446.830078  3856190000    3375.683213     3250.374312     10  282   \n",
       "1258  3477.139893  3939060000    3380.301611     3255.916311     10  283   \n",
       "\n",
       "      Days_to_election  Avg_month_temp  Avg_month_temp_dev        CCI  VIXCLS  \n",
       "0                  393           57.24                1.96  100.39440   16.17  \n",
       "1                  392           57.24                1.96  100.39440   17.67  \n",
       "2                  391           57.24                1.96  100.39440   18.03  \n",
       "3                  390           57.24                1.96  100.39440   16.05  \n",
       "4                  389           57.24                1.96  100.39440   15.05  \n",
       "...                ...             ...                 ...        ...     ...  \n",
       "1254                29           65.98               -1.33   98.85777   27.96  \n",
       "1255                28           65.98               -1.33   98.85777   29.48  \n",
       "1256                27           65.98               -1.33   98.85777   28.06  \n",
       "1257                26           65.98               -1.33   98.85777   26.36  \n",
       "1258                25           65.98               -1.33   98.85777   25.00  \n",
       "\n",
       "[1259 rows x 16 columns]"
      ]
     },
     "execution_count": 154,
     "metadata": {},
     "output_type": "execute_result"
    }
   ],
   "source": [
    "df"
   ]
  },
  {
   "cell_type": "markdown",
   "metadata": {},
   "source": [
    "### The features we have in this dataset:"
   ]
  },
  {
   "cell_type": "code",
   "execution_count": 155,
   "metadata": {},
   "outputs": [
    {
     "data": {
      "text/plain": [
       "Index(['Date', 'Open', 'High', 'Low', 'Close', 'Adj Close', 'Volume',\n",
       "       'moving_avg_50', 'moving_avg_100', 'Month', 'Day', 'Days_to_election',\n",
       "       'Avg_month_temp', 'Avg_month_temp_dev', 'CCI', 'VIXCLS'],\n",
       "      dtype='object')"
      ]
     },
     "execution_count": 155,
     "metadata": {},
     "output_type": "execute_result"
    }
   ],
   "source": [
    "df.columns"
   ]
  },
  {
   "cell_type": "markdown",
   "metadata": {},
   "source": [
    "## EDA"
   ]
  },
  {
   "cell_type": "code",
   "execution_count": 156,
   "metadata": {},
   "outputs": [
    {
     "name": "stdout",
     "output_type": "stream",
     "text": [
      "DISTRIBUTION FOR COLUMN:  Open\n",
      "count    1259.000000\n",
      "mean     2616.053343\n",
      "std       396.428545\n",
      "min      1833.400024\n",
      "25%      2269.429932\n",
      "50%      2660.629883\n",
      "75%      2898.220093\n",
      "max      3564.739990\n",
      "Name: Open, dtype: float64\n",
      "DISTRIBUTION FOR COLUMN:  High\n",
      "count    1259.000000\n",
      "mean     2628.914567\n",
      "std       398.723324\n",
      "min      1847.000000\n",
      "25%      2274.825073\n",
      "50%      2679.629883\n",
      "75%      2907.940064\n",
      "max      3588.110107\n",
      "Name: High, dtype: float64\n",
      "DISTRIBUTION FOR COLUMN:  Low\n",
      "count    1259.000000\n",
      "mean     2601.677776\n",
      "std       393.922986\n",
      "min      1810.099976\n",
      "25%      2263.335083\n",
      "50%      2647.320068\n",
      "75%      2881.989990\n",
      "max      3535.229980\n",
      "Name: Low, dtype: float64\n",
      "DISTRIBUTION FOR COLUMN:  Close\n",
      "count    1259.000000\n",
      "mean     2616.353596\n",
      "std       396.369718\n",
      "min      1829.079956\n",
      "25%      2269.719971\n",
      "50%      2662.850098\n",
      "75%      2892.189941\n",
      "max      3580.840088\n",
      "Name: Close, dtype: float64\n",
      "DISTRIBUTION FOR COLUMN:  Adj Close\n",
      "count    1259.000000\n",
      "mean     2616.353596\n",
      "std       396.369718\n",
      "min      1829.079956\n",
      "25%      2269.719971\n",
      "50%      2662.850098\n",
      "75%      2892.189941\n",
      "max      3580.840088\n",
      "Name: Adj Close, dtype: float64\n",
      "DISTRIBUTION FOR COLUMN:  Volume\n",
      "count    1.259000e+03\n",
      "mean     3.845490e+09\n",
      "std      9.818170e+08\n",
      "min      1.296540e+09\n",
      "25%      3.290665e+09\n",
      "50%      3.627610e+09\n",
      "75%      4.098975e+09\n",
      "max      9.044690e+09\n",
      "Name: Volume, dtype: float64\n",
      "DISTRIBUTION FOR COLUMN:  moving_avg_50\n",
      "count    1258.000000\n",
      "mean     2590.692556\n",
      "std       379.494543\n",
      "min      1930.350593\n",
      "25%      2213.876235\n",
      "50%      2674.761384\n",
      "75%      2872.923091\n",
      "max      3380.301611\n",
      "Name: moving_avg_50, dtype: float64\n",
      "DISTRIBUTION FOR COLUMN:  moving_avg_100\n",
      "count    1258.000000\n",
      "mean     2566.373743\n",
      "std       366.189095\n",
      "min      1993.688700\n",
      "25%      2184.659916\n",
      "50%      2686.065955\n",
      "75%      2870.475384\n",
      "max      3255.916311\n",
      "Name: moving_avg_100, dtype: float64\n",
      "DISTRIBUTION FOR COLUMN:  Day\n",
      "count    1259.000000\n",
      "mean      183.631454\n",
      "std       104.589731\n",
      "min         2.000000\n",
      "25%        93.000000\n",
      "50%       184.000000\n",
      "75%       274.500000\n",
      "max       365.000000\n",
      "Name: Day, dtype: float64\n",
      "DISTRIBUTION FOR COLUMN:  Days_to_election\n",
      "count    1259.000000\n",
      "mean       40.102462\n",
      "std       387.549377\n",
      "min      -728.000000\n",
      "25%      -273.500000\n",
      "50%       103.000000\n",
      "75%       333.000000\n",
      "max       727.000000\n",
      "Name: Days_to_election, dtype: float64\n",
      "DISTRIBUTION FOR COLUMN:  Avg_month_temp\n",
      "count    1259.000000\n",
      "mean       54.431954\n",
      "std        14.816210\n",
      "min        31.840000\n",
      "25%        40.300000\n",
      "50%        53.710000\n",
      "75%        68.720000\n",
      "max        75.700000\n",
      "Name: Avg_month_temp, dtype: float64\n",
      "DISTRIBUTION FOR COLUMN:  Avg_month_temp_dev\n",
      "count    1259.000000\n",
      "mean        0.011096\n",
      "std         1.966774\n",
      "min        -4.390000\n",
      "25%        -1.280000\n",
      "50%         0.100000\n",
      "75%         1.080000\n",
      "max         4.990000\n",
      "Name: Avg_month_temp_dev, dtype: float64\n",
      "DISTRIBUTION FOR COLUMN:  CCI\n",
      "count    1259.000000\n",
      "mean       99.406451\n",
      "std         0.978438\n",
      "min        98.857770\n",
      "25%        98.857770\n",
      "50%        98.857770\n",
      "75%        98.857770\n",
      "max       101.573800\n",
      "Name: CCI, dtype: float64\n",
      "DISTRIBUTION FOR COLUMN:  VIXCLS\n",
      "count    1259.000000\n",
      "mean       17.261978\n",
      "std         8.623581\n",
      "min         9.140000\n",
      "25%        12.330000\n",
      "50%        14.640000\n",
      "75%        19.125000\n",
      "max        82.690000\n",
      "Name: VIXCLS, dtype: float64\n"
     ]
    }
   ],
   "source": [
    "# below are the .describe() outputs for the continuous columns\n",
    "for col in ['Open', 'High', 'Low', 'Close', 'Adj Close', 'Volume',\n",
    "       'moving_avg_50', 'moving_avg_100', 'Day', 'Days_to_election',\n",
    "       'Avg_month_temp', 'Avg_month_temp_dev', 'CCI', 'VIXCLS']:\n",
    "    print(\"DISTRIBUTION FOR COLUMN: \",col)\n",
    "    print(df[col].describe())"
   ]
  },
  {
   "cell_type": "code",
   "execution_count": 157,
   "metadata": {},
   "outputs": [
    {
     "name": "stdout",
     "output_type": "stream",
     "text": [
      "VALUE COUNTS FOR COLUMN:  Month\n",
      "8     112\n",
      "10    111\n",
      "3     109\n",
      "6     107\n",
      "5     107\n",
      "7     105\n",
      "12    103\n",
      "11    103\n",
      "4     103\n",
      "1     102\n",
      "9     101\n",
      "2      96\n",
      "Name: Month, dtype: int64\n"
     ]
    }
   ],
   "source": [
    "# and here are the value counts for the categorical features -- this is just month\n",
    "for col in ['Month']:\n",
    "    print('VALUE COUNTS FOR COLUMN: ',col)\n",
    "    print(df[col].value_counts())"
   ]
  },
  {
   "cell_type": "markdown",
   "metadata": {},
   "source": [
    "### quick look at a few single-feature plots:"
   ]
  },
  {
   "cell_type": "code",
   "execution_count": 158,
   "metadata": {},
   "outputs": [
    {
     "data": {
      "image/png": "[encoded data removed]",
      "text/plain": [
       "<Figure size 432x288 with 1 Axes>"
      ]
     },
     "metadata": {},
     "output_type": "display_data"
    }
   ],
   "source": [
    "# HISTOGRAM OF POINTS FOR EACH MONTH\n",
    "pd.value_counts(df['Month']).plot.bar()\n",
    "plt.ylabel('count')\n",
    "plt.xlabel('Month')\n",
    "plt.show()"
   ]
  },
  {
   "cell_type": "markdown",
   "metadata": {},
   "source": [
    "#### this shows that we have exactly the distribution we would expect across each month (each count is 5 times the number of business days in each month)"
   ]
  },
  {
   "cell_type": "code",
   "execution_count": 159,
   "metadata": {},
   "outputs": [
    {
     "data": {
      "image/png": "[encoded data removed]",
      "text/plain": [
       "<Figure size 432x288 with 1 Axes>"
      ]
     },
     "metadata": {},
     "output_type": "display_data"
    }
   ],
   "source": [
    "# HISTOGRAM OF ADJUSTED CLOSE PRICE\n",
    "df['Adj Close'].plot.hist(bins = int(np.sqrt(df.shape[0]))) \n",
    "plt.xlabel('Adj Close')\n",
    "plt.ylabel('count')\n",
    "plt.show()"
   ]
  },
  {
   "cell_type": "markdown",
   "metadata": {},
   "source": [
    "#### This gives us a rough look at the distribution of our target variable and we can see a couple of modes in the middle of the distribution"
   ]
  },
  {
   "cell_type": "code",
   "execution_count": 160,
   "metadata": {
    "scrolled": true
   },
   "outputs": [
    {
     "data": {
      "image/png": "[encoded data removed]",
      "text/plain": [
       "<Figure size 432x288 with 1 Axes>"
      ]
     },
     "metadata": {},
     "output_type": "display_data"
    }
   ],
   "source": [
    "# HISTOGRAM OF VOLATILITY\n",
    "df['VIXCLS'].plot.hist(bins = int(np.sqrt(df.shape[0]))) \n",
    "plt.xlabel('VIXCLS')\n",
    "plt.ylabel('count')\n",
    "plt.show()"
   ]
  },
  {
   "cell_type": "markdown",
   "metadata": {},
   "source": [
    "#### We see that our volatility follows a long-tailed distribution at the upper end and is very focused on the lower end"
   ]
  },
  {
   "cell_type": "code",
   "execution_count": 161,
   "metadata": {},
   "outputs": [
    {
     "data": {
      "image/png": "[encoded data removed]",
      "text/plain": [
       "<Figure size 432x288 with 1 Axes>"
      ]
     },
     "metadata": {},
     "output_type": "display_data"
    }
   ],
   "source": [
    "# HISTOGRAM OF CONSUMER CONFIDENCE\n",
    "df['CCI'].plot.hist(bins = df['CCI'].nunique()) \n",
    "plt.xlabel('CCI')\n",
    "plt.ylabel('count')\n",
    "plt.show()"
   ]
  },
  {
   "cell_type": "markdown",
   "metadata": {},
   "source": [
    "#### We see here that most values fall just below 99.0 with a sort of upper tail signifying higher confidence"
   ]
  },
  {
   "cell_type": "code",
   "execution_count": 162,
   "metadata": {
    "scrolled": true
   },
   "outputs": [
    {
     "data": {
      "image/png": "[encoded data removed]",
      "text/plain": [
       "<Figure size 432x288 with 1 Axes>"
      ]
     },
     "metadata": {},
     "output_type": "display_data"
    }
   ],
   "source": [
    "# HISTOGRAM OF VOLUME\n",
    "df['Volume'].plot.hist(bins = int(np.sqrt(df.shape[0]))) \n",
    "plt.xlabel('Volume')\n",
    "plt.ylabel('count')\n",
    "plt.show()"
   ]
  },
  {
   "cell_type": "markdown",
   "metadata": {},
   "source": [
    "#### This shows us that volume follows a very neat distribution centered around 3.8e9 with a longer upper tail than lower tail. Additionally because the scale is so large on this variable we have extra motivation to apply a standard scaler"
   ]
  },
  {
   "cell_type": "markdown",
   "metadata": {},
   "source": [
    "### Plotting features against each other"
   ]
  },
  {
   "cell_type": "code",
   "execution_count": 163,
   "metadata": {
    "scrolled": false
   },
   "outputs": [
    {
     "data": {
      "image/png": "[encoded data removed]",
      "text/plain": [
       "<Figure size 432x288 with 1 Axes>"
      ]
     },
     "metadata": {},
     "output_type": "display_data"
    }
   ],
   "source": [
    "df.plot.scatter('Adj Close','CCI',s=10,alpha=0.1) # alpha=0.1,s=10\n",
    "plt.show()"
   ]
  },
  {
   "cell_type": "markdown",
   "metadata": {},
   "source": [
    "#### This shows some correllation with high consumer confidence and high adjusted close price. There is a some skewing due to the focus of consumer confidence on a value just below 99.0"
   ]
  },
  {
   "cell_type": "code",
   "execution_count": 164,
   "metadata": {
    "scrolled": true
   },
   "outputs": [
    {
     "data": {
      "image/png": "[encoded data removed]",
      "text/plain": [
       "<Figure size 432x288 with 1 Axes>"
      ]
     },
     "metadata": {},
     "output_type": "display_data"
    }
   ],
   "source": [
    "df.plot.scatter('VIXCLS','Adj Close',s=10,alpha=0.1) # alpha=0.1,s=10\n",
    "plt.show()"
   ]
  },
  {
   "cell_type": "markdown",
   "metadata": {},
   "source": [
    "#### The relation between volatility and adjusted closing price is not completely clear but we see a few distinct clusters in which higher volatility corresponds with a lower adjusted closing price"
   ]
  },
  {
   "cell_type": "code",
   "execution_count": 165,
   "metadata": {
    "scrolled": true
   },
   "outputs": [
    {
     "data": {
      "image/png": "[encoded data removed]",
      "text/plain": [
       "<Figure size 432x288 with 1 Axes>"
      ]
     },
     "metadata": {},
     "output_type": "display_data"
    }
   ],
   "source": [
    "df.plot.scatter('Days_to_election','VIXCLS',s=10,alpha=0.2)\n",
    "plt.show()"
   ]
  },
  {
   "cell_type": "markdown",
   "metadata": {},
   "source": [
    "#### The relation between the number of days until the nearest election and volatility shows some periodicity, with a couple of distinct spikes, the largest of which coming 200 days before the nearest election."
   ]
  },
  {
   "cell_type": "code",
   "execution_count": 166,
   "metadata": {},
   "outputs": [
    {
     "data": {
      "image/png": "[encoded data removed]",
      "text/plain": [
       "<Figure size 432x288 with 1 Axes>"
      ]
     },
     "metadata": {},
     "output_type": "display_data"
    }
   ],
   "source": [
    "df.plot.scatter('Day','VIXCLS',s=10,alpha=0.2)\n",
    "plt.show()"
   ]
  },
  {
   "cell_type": "markdown",
   "metadata": {},
   "source": [
    "#### The relationship between day number and volatility shows some periodicity, with a large spike around day 75 (this could be the result of a tendency of people to invest more at the end of each year's first fiscal quarter)"
   ]
  },
  {
   "cell_type": "code",
   "execution_count": 167,
   "metadata": {},
   "outputs": [
    {
     "name": "stderr",
     "output_type": "stream",
     "text": [
      "/opt/anaconda3/envs/data1030/lib/python3.7/site-packages/ipykernel_launcher.py:6: RuntimeWarning: divide by zero encountered in log10\n",
      "  \n"
     ]
    },
    {
     "data": {
      "image/png": "[encoded data removed]",
      "text/plain": [
       "<Figure size 432x288 with 2 Axes>"
      ]
     },
     "metadata": {},
     "output_type": "display_data"
    }
   ],
   "source": [
    "nbins = 20\n",
    "\n",
    "heatmap, xedges, yedges = np.histogram2d(df['Volume'], df['VIXCLS'], bins=nbins)\n",
    "extent = [xedges[0], xedges[-1], yedges[0], yedges[-1]]\n",
    "\n",
    "plt.imshow(np.log10(heatmap).T, origin='lower') # use log count\n",
    "plt.xlabel('Volume')\n",
    "plt.ylabel('VIXCLS')\n",
    "plt.xticks(np.arange(nbins)[::int(nbins/4)],xedges[::int(nbins/4)].astype(int))\n",
    "plt.yticks(np.arange(nbins)[::int(nbins/4)],yedges[::int(nbins/4)].astype(int))\n",
    "plt.colorbar(label='log10(count)')\n",
    "plt.show()"
   ]
  },
  {
   "cell_type": "markdown",
   "metadata": {},
   "source": [
    "#### From this heatmap we see that there is a correllation between volume and volatility, as well as there being a concentration of points around the most common volume. The former makes intuitive sense as possibly representing the entropy that is introduced to the system by an increased number of transactions in the market on a given day."
   ]
  },
  {
   "cell_type": "code",
   "execution_count": 168,
   "metadata": {},
   "outputs": [
    {
     "data": {
      "image/png": "[encoded data removed]",
      "text/plain": [
       "<Figure size 432x288 with 1 Axes>"
      ]
     },
     "metadata": {},
     "output_type": "display_data"
    }
   ],
   "source": [
    "bp = df[['Adj Close','Month']].boxplot(by='Month')\n",
    "bp.get_figure().gca().set_title(\"\")\n",
    "bp.get_figure().gca().set_xlabel(\"\")\n",
    "plt.ylabel('Adj Close')\n",
    "plt.show()"
   ]
  },
  {
   "cell_type": "markdown",
   "metadata": {},
   "source": [
    "#### This boxplot shows us the distribution of adjusted closing price in each of the 12 months. This gives a look into possible seasonal trends that might account for the mean and variance of the adjusted closing price varying month to month."
   ]
  },
  {
   "cell_type": "code",
   "execution_count": 169,
   "metadata": {},
   "outputs": [
    {
     "data": {
      "text/plain": [
       "<matplotlib.axes._subplots.AxesSubplot at 0x7ff81695fb10>"
      ]
     },
     "execution_count": 169,
     "metadata": {},
     "output_type": "execute_result"
    },
    {
     "data": {
      "image/png": "[encoded data removed]",
      "text/plain": [
       "<Figure size 432x288 with 1 Axes>"
      ]
     },
     "metadata": {},
     "output_type": "display_data"
    }
   ],
   "source": [
    "# to use a style that will have a background grid\n",
    "from matplotlib import style\n",
    "style.use('ggplot')\n",
    "\n",
    "# plotting adj close against the two moving averages\n",
    "prices = df.loc[:, ['Adj Close','moving_avg_50','moving_avg_100']]\n",
    "prices.plot()"
   ]
  },
  {
   "cell_type": "markdown",
   "metadata": {},
   "source": [
    "#### Plotting the adjusted closing price against our engineered features of 50- and 100-day moving average gives us an important look at the function of including these rolling averages in our feature matrix. The n-day moving averages provide a way for us to look at a smoothed out version of the target variable, with the size of the window being proportional to the curve's resistance to quick fluctuation."
   ]
  },
  {
   "cell_type": "code",
   "execution_count": 170,
   "metadata": {
    "scrolled": false
   },
   "outputs": [
    {
     "data": {
      "image/png": "[encoded data removed]",
      "text/plain": [
       "<Figure size 648x648 with 121 Axes>"
      ]
     },
     "metadata": {},
     "output_type": "display_data"
    }
   ],
   "source": [
    "pd.plotting.scatter_matrix(df.select_dtypes(float), figsize=(9, 9), marker='o',hist_kwds={'bins': 50}, \n",
    "                           s=3, alpha=.1)\n",
    "plt.show()"
   ]
  },
  {
   "cell_type": "markdown",
   "metadata": {},
   "source": [
    "#### Here we have a scatter matrix of all of our float-valued features. In the upper left corner we see there is a very closely linear correllation between the related features from the original dataset (Open, Close, High, Low, Adj Close)."
   ]
  },
  {
   "cell_type": "markdown",
   "metadata": {},
   "source": [
    "## Preprocessing:\n",
    "### Making our train/val/test split and standardizing and encoding all features except for the target variable (adjusted close price)"
   ]
  },
  {
   "cell_type": "code",
   "execution_count": 171,
   "metadata": {},
   "outputs": [],
   "source": [
    "# We'll split out data manually into the data from years [1,2,3], [4], [5] for training, val, and test respectively\n",
    "# --> in the interest of symmetry, we'll just divide the number of rows by five and divide into fifths that way\n",
    "\n",
    "num_rows = len(df)\n",
    "year_rows = num_rows//5\n",
    "\n",
    "train_inds = list(range(3*year_rows))\n",
    "val_inds = list(range(3*year_rows, 4*year_rows))\n",
    "test_inds = list(range(4*year_rows, num_rows))"
   ]
  },
  {
   "cell_type": "code",
   "execution_count": 172,
   "metadata": {
    "scrolled": true
   },
   "outputs": [
    {
     "name": "stdout",
     "output_type": "stream",
     "text": [
      "test inds from  0  to  752\n",
      "test inds from  753  to  1003\n",
      "test inds from  1004  to  1258\n"
     ]
    }
   ],
   "source": [
    "print('test inds from ',min(train_inds),' to ',max(train_inds))\n",
    "print('test inds from ',min(val_inds),' to ',max(val_inds))\n",
    "print('test inds from ',min(test_inds),' to ',max(test_inds))"
   ]
  },
  {
   "cell_type": "code",
   "execution_count": 173,
   "metadata": {},
   "outputs": [],
   "source": [
    "X_train = df.iloc[train_inds, df.columns != 'Adj Close']\n",
    "X_val = df.iloc[val_inds, df.columns != 'Adj Close']\n",
    "X_test = df.iloc[test_inds, df.columns != 'Adj Close']"
   ]
  },
  {
   "cell_type": "code",
   "execution_count": 174,
   "metadata": {},
   "outputs": [],
   "source": [
    "y_train = df.iloc[train_inds, df.columns == 'Adj Close']\n",
    "y_val = df.iloc[val_inds, df.columns == 'Adj Close']\n",
    "y_test = df.iloc[test_inds, df.columns == 'Adj Close']"
   ]
  },
  {
   "cell_type": "code",
   "execution_count": 175,
   "metadata": {},
   "outputs": [],
   "source": [
    "# and lastly let's remove the date column from our training matrices, because all date-relevant information\n",
    "# is encoded by the date-related engineered features\n",
    "X_train = X_train.drop(columns=['Date'])\n",
    "X_val = X_val.drop(columns=['Date'])\n",
    "X_test = X_test.drop(columns=['Date'])"
   ]
  },
  {
   "cell_type": "code",
   "execution_count": 176,
   "metadata": {},
   "outputs": [
    {
     "data": {
      "text/html": [
       "<div>\n",
       "<style scoped>\n",
       "    .dataframe tbody tr th:only-of-type {\n",
       "        vertical-align: middle;\n",
       "    }\n",
       "\n",
       "    .dataframe tbody tr th {\n",
       "        vertical-align: top;\n",
       "    }\n",
       "\n",
       "    .dataframe thead th {\n",
       "        text-align: right;\n",
       "    }\n",
       "</style>\n",
       "<table border=\"1\" class=\"dataframe\">\n",
       "  <thead>\n",
       "    <tr style=\"text-align: right;\">\n",
       "      <th></th>\n",
       "      <th>Open</th>\n",
       "      <th>High</th>\n",
       "      <th>Low</th>\n",
       "      <th>Close</th>\n",
       "      <th>Volume</th>\n",
       "      <th>moving_avg_50</th>\n",
       "      <th>moving_avg_100</th>\n",
       "      <th>Month</th>\n",
       "      <th>Day</th>\n",
       "      <th>Days_to_election</th>\n",
       "      <th>Avg_month_temp</th>\n",
       "      <th>Avg_month_temp_dev</th>\n",
       "      <th>CCI</th>\n",
       "      <th>VIXCLS</th>\n",
       "    </tr>\n",
       "  </thead>\n",
       "  <tbody>\n",
       "    <tr>\n",
       "      <th>1004</th>\n",
       "      <td>2920.399902</td>\n",
       "      <td>2925.469971</td>\n",
       "      <td>2892.659912</td>\n",
       "      <td>2893.060059</td>\n",
       "      <td>3356450000</td>\n",
       "      <td>2938.058799</td>\n",
       "      <td>2928.222200</td>\n",
       "      <td>10</td>\n",
       "      <td>281</td>\n",
       "      <td>392</td>\n",
       "      <td>52.05</td>\n",
       "      <td>-3.23</td>\n",
       "      <td>101.05780</td>\n",
       "      <td>20.28</td>\n",
       "    </tr>\n",
       "    <tr>\n",
       "      <th>1005</th>\n",
       "      <td>2911.100098</td>\n",
       "      <td>2929.320068</td>\n",
       "      <td>2907.409912</td>\n",
       "      <td>2919.399902</td>\n",
       "      <td>2726820000</td>\n",
       "      <td>2936.183198</td>\n",
       "      <td>2928.820898</td>\n",
       "      <td>10</td>\n",
       "      <td>282</td>\n",
       "      <td>391</td>\n",
       "      <td>52.05</td>\n",
       "      <td>-3.23</td>\n",
       "      <td>101.05780</td>\n",
       "      <td>18.64</td>\n",
       "    </tr>\n",
       "    <tr>\n",
       "      <th>1006</th>\n",
       "      <td>2918.550049</td>\n",
       "      <td>2948.459961</td>\n",
       "      <td>2917.120117</td>\n",
       "      <td>2938.129883</td>\n",
       "      <td>3217250000</td>\n",
       "      <td>2935.338198</td>\n",
       "      <td>2929.799897</td>\n",
       "      <td>10</td>\n",
       "      <td>283</td>\n",
       "      <td>390</td>\n",
       "      <td>52.05</td>\n",
       "      <td>-3.23</td>\n",
       "      <td>101.05780</td>\n",
       "      <td>17.57</td>\n",
       "    </tr>\n",
       "    <tr>\n",
       "      <th>1007</th>\n",
       "      <td>2963.070068</td>\n",
       "      <td>2993.280029</td>\n",
       "      <td>2963.070068</td>\n",
       "      <td>2970.270020</td>\n",
       "      <td>3580460000</td>\n",
       "      <td>2935.672397</td>\n",
       "      <td>2930.858997</td>\n",
       "      <td>10</td>\n",
       "      <td>284</td>\n",
       "      <td>389</td>\n",
       "      <td>52.05</td>\n",
       "      <td>-3.23</td>\n",
       "      <td>101.05780</td>\n",
       "      <td>15.58</td>\n",
       "    </tr>\n",
       "    <tr>\n",
       "      <th>1008</th>\n",
       "      <td>2965.810059</td>\n",
       "      <td>2972.840088</td>\n",
       "      <td>2962.939941</td>\n",
       "      <td>2966.149902</td>\n",
       "      <td>2557020000</td>\n",
       "      <td>2936.354395</td>\n",
       "      <td>2931.957795</td>\n",
       "      <td>10</td>\n",
       "      <td>287</td>\n",
       "      <td>386</td>\n",
       "      <td>52.05</td>\n",
       "      <td>-3.23</td>\n",
       "      <td>101.05780</td>\n",
       "      <td>14.57</td>\n",
       "    </tr>\n",
       "    <tr>\n",
       "      <th>...</th>\n",
       "      <td>...</td>\n",
       "      <td>...</td>\n",
       "      <td>...</td>\n",
       "      <td>...</td>\n",
       "      <td>...</td>\n",
       "      <td>...</td>\n",
       "      <td>...</td>\n",
       "      <td>...</td>\n",
       "      <td>...</td>\n",
       "      <td>...</td>\n",
       "      <td>...</td>\n",
       "      <td>...</td>\n",
       "      <td>...</td>\n",
       "      <td>...</td>\n",
       "    </tr>\n",
       "    <tr>\n",
       "      <th>1254</th>\n",
       "      <td>3367.270020</td>\n",
       "      <td>3409.570068</td>\n",
       "      <td>3367.270020</td>\n",
       "      <td>3408.600098</td>\n",
       "      <td>3686920000</td>\n",
       "      <td>3365.464209</td>\n",
       "      <td>3234.803010</td>\n",
       "      <td>10</td>\n",
       "      <td>279</td>\n",
       "      <td>29</td>\n",
       "      <td>65.98</td>\n",
       "      <td>-1.33</td>\n",
       "      <td>98.85777</td>\n",
       "      <td>27.96</td>\n",
       "    </tr>\n",
       "    <tr>\n",
       "      <th>1255</th>\n",
       "      <td>3408.739990</td>\n",
       "      <td>3431.560059</td>\n",
       "      <td>3354.540039</td>\n",
       "      <td>3360.969971</td>\n",
       "      <td>4443380000</td>\n",
       "      <td>3367.895410</td>\n",
       "      <td>3239.887710</td>\n",
       "      <td>10</td>\n",
       "      <td>280</td>\n",
       "      <td>28</td>\n",
       "      <td>65.98</td>\n",
       "      <td>-1.33</td>\n",
       "      <td>98.85777</td>\n",
       "      <td>29.48</td>\n",
       "    </tr>\n",
       "    <tr>\n",
       "      <th>1256</th>\n",
       "      <td>3384.560059</td>\n",
       "      <td>3426.260010</td>\n",
       "      <td>3384.560059</td>\n",
       "      <td>3419.439941</td>\n",
       "      <td>3807830000</td>\n",
       "      <td>3371.915410</td>\n",
       "      <td>3245.445110</td>\n",
       "      <td>10</td>\n",
       "      <td>281</td>\n",
       "      <td>27</td>\n",
       "      <td>65.98</td>\n",
       "      <td>-1.33</td>\n",
       "      <td>98.85777</td>\n",
       "      <td>28.06</td>\n",
       "    </tr>\n",
       "    <tr>\n",
       "      <th>1257</th>\n",
       "      <td>3434.280029</td>\n",
       "      <td>3447.280029</td>\n",
       "      <td>3428.149902</td>\n",
       "      <td>3446.830078</td>\n",
       "      <td>3856190000</td>\n",
       "      <td>3375.683213</td>\n",
       "      <td>3250.374312</td>\n",
       "      <td>10</td>\n",
       "      <td>282</td>\n",
       "      <td>26</td>\n",
       "      <td>65.98</td>\n",
       "      <td>-1.33</td>\n",
       "      <td>98.85777</td>\n",
       "      <td>26.36</td>\n",
       "    </tr>\n",
       "    <tr>\n",
       "      <th>1258</th>\n",
       "      <td>3459.669922</td>\n",
       "      <td>3482.340088</td>\n",
       "      <td>3458.070068</td>\n",
       "      <td>3477.139893</td>\n",
       "      <td>3939060000</td>\n",
       "      <td>3380.301611</td>\n",
       "      <td>3255.916311</td>\n",
       "      <td>10</td>\n",
       "      <td>283</td>\n",
       "      <td>25</td>\n",
       "      <td>65.98</td>\n",
       "      <td>-1.33</td>\n",
       "      <td>98.85777</td>\n",
       "      <td>25.00</td>\n",
       "    </tr>\n",
       "  </tbody>\n",
       "</table>\n",
       "<p>255 rows × 14 columns</p>\n",
       "</div>"
      ],
      "text/plain": [
       "             Open         High          Low        Close      Volume  \\\n",
       "1004  2920.399902  2925.469971  2892.659912  2893.060059  3356450000   \n",
       "1005  2911.100098  2929.320068  2907.409912  2919.399902  2726820000   \n",
       "1006  2918.550049  2948.459961  2917.120117  2938.129883  3217250000   \n",
       "1007  2963.070068  2993.280029  2963.070068  2970.270020  3580460000   \n",
       "1008  2965.810059  2972.840088  2962.939941  2966.149902  2557020000   \n",
       "...           ...          ...          ...          ...         ...   \n",
       "1254  3367.270020  3409.570068  3367.270020  3408.600098  3686920000   \n",
       "1255  3408.739990  3431.560059  3354.540039  3360.969971  4443380000   \n",
       "1256  3384.560059  3426.260010  3384.560059  3419.439941  3807830000   \n",
       "1257  3434.280029  3447.280029  3428.149902  3446.830078  3856190000   \n",
       "1258  3459.669922  3482.340088  3458.070068  3477.139893  3939060000   \n",
       "\n",
       "      moving_avg_50  moving_avg_100  Month  Day  Days_to_election  \\\n",
       "1004    2938.058799     2928.222200     10  281               392   \n",
       "1005    2936.183198     2928.820898     10  282               391   \n",
       "1006    2935.338198     2929.799897     10  283               390   \n",
       "1007    2935.672397     2930.858997     10  284               389   \n",
       "1008    2936.354395     2931.957795     10  287               386   \n",
       "...             ...             ...    ...  ...               ...   \n",
       "1254    3365.464209     3234.803010     10  279                29   \n",
       "1255    3367.895410     3239.887710     10  280                28   \n",
       "1256    3371.915410     3245.445110     10  281                27   \n",
       "1257    3375.683213     3250.374312     10  282                26   \n",
       "1258    3380.301611     3255.916311     10  283                25   \n",
       "\n",
       "      Avg_month_temp  Avg_month_temp_dev        CCI  VIXCLS  \n",
       "1004           52.05               -3.23  101.05780   20.28  \n",
       "1005           52.05               -3.23  101.05780   18.64  \n",
       "1006           52.05               -3.23  101.05780   17.57  \n",
       "1007           52.05               -3.23  101.05780   15.58  \n",
       "1008           52.05               -3.23  101.05780   14.57  \n",
       "...              ...                 ...        ...     ...  \n",
       "1254           65.98               -1.33   98.85777   27.96  \n",
       "1255           65.98               -1.33   98.85777   29.48  \n",
       "1256           65.98               -1.33   98.85777   28.06  \n",
       "1257           65.98               -1.33   98.85777   26.36  \n",
       "1258           65.98               -1.33   98.85777   25.00  \n",
       "\n",
       "[255 rows x 14 columns]"
      ]
     },
     "execution_count": 176,
     "metadata": {},
     "output_type": "execute_result"
    }
   ],
   "source": [
    "X_test"
   ]
  },
  {
   "cell_type": "markdown",
   "metadata": {},
   "source": [
    "### ...and now we will fit_transform to the training data and transform the validation and testing data"
   ]
  },
  {
   "cell_type": "code",
   "execution_count": 177,
   "metadata": {},
   "outputs": [],
   "source": [
    "# STANDARD SCALER TO BE APPLIED TO:\n",
    "#     ['Open', 'High', 'Low', 'Close', 'Volume',\n",
    "#        'moving_avg_50', 'moving_avg_100',\n",
    "#         'Avg_month_temp', 'Avg_month_temp_dev', 'CCI', 'VIXCLS'\n",
    "# MIN-MAX SCALER TO BE APPLIED TO:\n",
    "#     [Day', 'Days_to_election']\n",
    "# ONE-HOT ENCODER TO BE APPLIED TO:\n",
    "#     ['Month']\n",
    "\n",
    "from sklearn.preprocessing import StandardScaler\n",
    "\n",
    "std_ftrs = ['Open', 'High', 'Low', 'Close', 'Volume',\n",
    "            'moving_avg_50', 'moving_avg_100','Avg_month_temp',\n",
    "            'Avg_month_temp_dev', 'CCI', 'VIXCLS']\n",
    "scaler = StandardScaler()\n",
    "X_train[std_ftrs] = scaler.fit_transform(X_train[std_ftrs])\n",
    "X_val[std_ftrs] = scaler.transform(X_val[std_ftrs])\n",
    "X_test[std_ftrs] = scaler.transform(X_test[std_ftrs])"
   ]
  },
  {
   "cell_type": "code",
   "execution_count": 178,
   "metadata": {},
   "outputs": [
    {
     "data": {
      "text/html": [
       "<div>\n",
       "<style scoped>\n",
       "    .dataframe tbody tr th:only-of-type {\n",
       "        vertical-align: middle;\n",
       "    }\n",
       "\n",
       "    .dataframe tbody tr th {\n",
       "        vertical-align: top;\n",
       "    }\n",
       "\n",
       "    .dataframe thead th {\n",
       "        text-align: right;\n",
       "    }\n",
       "</style>\n",
       "<table border=\"1\" class=\"dataframe\">\n",
       "  <thead>\n",
       "    <tr style=\"text-align: right;\">\n",
       "      <th></th>\n",
       "      <th>Open</th>\n",
       "      <th>High</th>\n",
       "      <th>Low</th>\n",
       "      <th>Close</th>\n",
       "      <th>Volume</th>\n",
       "      <th>moving_avg_50</th>\n",
       "      <th>moving_avg_100</th>\n",
       "      <th>Month</th>\n",
       "      <th>Day</th>\n",
       "      <th>Days_to_election</th>\n",
       "      <th>Avg_month_temp</th>\n",
       "      <th>Avg_month_temp_dev</th>\n",
       "      <th>CCI</th>\n",
       "      <th>VIXCLS</th>\n",
       "    </tr>\n",
       "  </thead>\n",
       "  <tbody>\n",
       "    <tr>\n",
       "      <th>0</th>\n",
       "      <td>-1.261893</td>\n",
       "      <td>-1.282373</td>\n",
       "      <td>-1.244264</td>\n",
       "      <td>-1.257836</td>\n",
       "      <td>-1.043700</td>\n",
       "      <td>NaN</td>\n",
       "      <td>NaN</td>\n",
       "      <td>10</td>\n",
       "      <td>285</td>\n",
       "      <td>393</td>\n",
       "      <td>0.159902</td>\n",
       "      <td>0.743925</td>\n",
       "      <td>1.104675</td>\n",
       "      <td>0.513011</td>\n",
       "    </tr>\n",
       "    <tr>\n",
       "      <th>1</th>\n",
       "      <td>-1.264133</td>\n",
       "      <td>-1.269703</td>\n",
       "      <td>-1.274461</td>\n",
       "      <td>-1.305309</td>\n",
       "      <td>-0.313123</td>\n",
       "      <td>-1.218345</td>\n",
       "      <td>-1.177777</td>\n",
       "      <td>10</td>\n",
       "      <td>286</td>\n",
       "      <td>392</td>\n",
       "      <td>0.159902</td>\n",
       "      <td>0.743925</td>\n",
       "      <td>1.104675</td>\n",
       "      <td>0.890603</td>\n",
       "    </tr>\n",
       "    <tr>\n",
       "      <th>2</th>\n",
       "      <td>-1.303205</td>\n",
       "      <td>-1.313705</td>\n",
       "      <td>-1.312510</td>\n",
       "      <td>-1.337888</td>\n",
       "      <td>0.035411</td>\n",
       "      <td>-1.243204</td>\n",
       "      <td>-1.203765</td>\n",
       "      <td>10</td>\n",
       "      <td>287</td>\n",
       "      <td>391</td>\n",
       "      <td>0.159902</td>\n",
       "      <td>0.743925</td>\n",
       "      <td>1.104675</td>\n",
       "      <td>0.981225</td>\n",
       "    </tr>\n",
       "    <tr>\n",
       "      <th>3</th>\n",
       "      <td>-1.327979</td>\n",
       "      <td>-1.263471</td>\n",
       "      <td>-1.292745</td>\n",
       "      <td>-1.235772</td>\n",
       "      <td>0.181478</td>\n",
       "      <td>-1.262864</td>\n",
       "      <td>-1.224317</td>\n",
       "      <td>10</td>\n",
       "      <td>288</td>\n",
       "      <td>390</td>\n",
       "      <td>0.159902</td>\n",
       "      <td>0.743925</td>\n",
       "      <td>1.104675</td>\n",
       "      <td>0.482803</td>\n",
       "    </tr>\n",
       "    <tr>\n",
       "      <th>4</th>\n",
       "      <td>-1.231848</td>\n",
       "      <td>-1.231140</td>\n",
       "      <td>-1.210141</td>\n",
       "      <td>-1.203882</td>\n",
       "      <td>-0.035195</td>\n",
       "      <td>-1.245957</td>\n",
       "      <td>-1.206643</td>\n",
       "      <td>10</td>\n",
       "      <td>289</td>\n",
       "      <td>389</td>\n",
       "      <td>0.159902</td>\n",
       "      <td>0.743925</td>\n",
       "      <td>1.104675</td>\n",
       "      <td>0.231075</td>\n",
       "    </tr>\n",
       "    <tr>\n",
       "      <th>...</th>\n",
       "      <td>...</td>\n",
       "      <td>...</td>\n",
       "      <td>...</td>\n",
       "      <td>...</td>\n",
       "      <td>...</td>\n",
       "      <td>...</td>\n",
       "      <td>...</td>\n",
       "      <td>...</td>\n",
       "      <td>...</td>\n",
       "      <td>...</td>\n",
       "      <td>...</td>\n",
       "      <td>...</td>\n",
       "      <td>...</td>\n",
       "      <td>...</td>\n",
       "    </tr>\n",
       "    <tr>\n",
       "      <th>748</th>\n",
       "      <td>1.875767</td>\n",
       "      <td>1.879728</td>\n",
       "      <td>1.880024</td>\n",
       "      <td>1.869527</td>\n",
       "      <td>-0.367313</td>\n",
       "      <td>1.862093</td>\n",
       "      <td>1.817391</td>\n",
       "      <td>10</td>\n",
       "      <td>274</td>\n",
       "      <td>-692</td>\n",
       "      <td>-0.082026</td>\n",
       "      <td>-1.140588</td>\n",
       "      <td>2.257253</td>\n",
       "      <td>-0.536696</td>\n",
       "    </tr>\n",
       "    <tr>\n",
       "      <th>749</th>\n",
       "      <td>1.867188</td>\n",
       "      <td>1.860309</td>\n",
       "      <td>1.885052</td>\n",
       "      <td>1.865527</td>\n",
       "      <td>-0.313181</td>\n",
       "      <td>1.870502</td>\n",
       "      <td>1.824953</td>\n",
       "      <td>10</td>\n",
       "      <td>275</td>\n",
       "      <td>-693</td>\n",
       "      <td>-0.082026</td>\n",
       "      <td>-1.140588</td>\n",
       "      <td>2.257253</td>\n",
       "      <td>-0.524109</td>\n",
       "    </tr>\n",
       "    <tr>\n",
       "      <th>750</th>\n",
       "      <td>1.894373</td>\n",
       "      <td>1.889369</td>\n",
       "      <td>1.891904</td>\n",
       "      <td>1.872699</td>\n",
       "      <td>-0.030484</td>\n",
       "      <td>1.878092</td>\n",
       "      <td>1.832419</td>\n",
       "      <td>10</td>\n",
       "      <td>276</td>\n",
       "      <td>-694</td>\n",
       "      <td>-0.082026</td>\n",
       "      <td>-1.140588</td>\n",
       "      <td>2.257253</td>\n",
       "      <td>-0.634870</td>\n",
       "    </tr>\n",
       "    <tr>\n",
       "      <th>751</th>\n",
       "      <td>1.851855</td>\n",
       "      <td>1.820232</td>\n",
       "      <td>1.762988</td>\n",
       "      <td>1.790303</td>\n",
       "      <td>-0.176766</td>\n",
       "      <td>1.882102</td>\n",
       "      <td>1.838891</td>\n",
       "      <td>10</td>\n",
       "      <td>277</td>\n",
       "      <td>-695</td>\n",
       "      <td>-0.082026</td>\n",
       "      <td>-1.140588</td>\n",
       "      <td>2.257253</td>\n",
       "      <td>0.022141</td>\n",
       "    </tr>\n",
       "    <tr>\n",
       "      <th>752</th>\n",
       "      <td>1.793935</td>\n",
       "      <td>1.785319</td>\n",
       "      <td>1.712613</td>\n",
       "      <td>1.735004</td>\n",
       "      <td>-0.417883</td>\n",
       "      <td>1.885578</td>\n",
       "      <td>1.845464</td>\n",
       "      <td>10</td>\n",
       "      <td>278</td>\n",
       "      <td>-696</td>\n",
       "      <td>-0.082026</td>\n",
       "      <td>-1.140588</td>\n",
       "      <td>2.257253</td>\n",
       "      <td>0.173178</td>\n",
       "    </tr>\n",
       "  </tbody>\n",
       "</table>\n",
       "<p>753 rows × 14 columns</p>\n",
       "</div>"
      ],
      "text/plain": [
       "         Open      High       Low     Close    Volume  moving_avg_50  \\\n",
       "0   -1.261893 -1.282373 -1.244264 -1.257836 -1.043700            NaN   \n",
       "1   -1.264133 -1.269703 -1.274461 -1.305309 -0.313123      -1.218345   \n",
       "2   -1.303205 -1.313705 -1.312510 -1.337888  0.035411      -1.243204   \n",
       "3   -1.327979 -1.263471 -1.292745 -1.235772  0.181478      -1.262864   \n",
       "4   -1.231848 -1.231140 -1.210141 -1.203882 -0.035195      -1.245957   \n",
       "..        ...       ...       ...       ...       ...            ...   \n",
       "748  1.875767  1.879728  1.880024  1.869527 -0.367313       1.862093   \n",
       "749  1.867188  1.860309  1.885052  1.865527 -0.313181       1.870502   \n",
       "750  1.894373  1.889369  1.891904  1.872699 -0.030484       1.878092   \n",
       "751  1.851855  1.820232  1.762988  1.790303 -0.176766       1.882102   \n",
       "752  1.793935  1.785319  1.712613  1.735004 -0.417883       1.885578   \n",
       "\n",
       "     moving_avg_100  Month  Day  Days_to_election  Avg_month_temp  \\\n",
       "0               NaN     10  285               393        0.159902   \n",
       "1         -1.177777     10  286               392        0.159902   \n",
       "2         -1.203765     10  287               391        0.159902   \n",
       "3         -1.224317     10  288               390        0.159902   \n",
       "4         -1.206643     10  289               389        0.159902   \n",
       "..              ...    ...  ...               ...             ...   \n",
       "748        1.817391     10  274              -692       -0.082026   \n",
       "749        1.824953     10  275              -693       -0.082026   \n",
       "750        1.832419     10  276              -694       -0.082026   \n",
       "751        1.838891     10  277              -695       -0.082026   \n",
       "752        1.845464     10  278              -696       -0.082026   \n",
       "\n",
       "     Avg_month_temp_dev       CCI    VIXCLS  \n",
       "0              0.743925  1.104675  0.513011  \n",
       "1              0.743925  1.104675  0.890603  \n",
       "2              0.743925  1.104675  0.981225  \n",
       "3              0.743925  1.104675  0.482803  \n",
       "4              0.743925  1.104675  0.231075  \n",
       "..                  ...       ...       ...  \n",
       "748           -1.140588  2.257253 -0.536696  \n",
       "749           -1.140588  2.257253 -0.524109  \n",
       "750           -1.140588  2.257253 -0.634870  \n",
       "751           -1.140588  2.257253  0.022141  \n",
       "752           -1.140588  2.257253  0.173178  \n",
       "\n",
       "[753 rows x 14 columns]"
      ]
     },
     "execution_count": 178,
     "metadata": {},
     "output_type": "execute_result"
    }
   ],
   "source": [
    "X_train"
   ]
  },
  {
   "cell_type": "code",
   "execution_count": 179,
   "metadata": {},
   "outputs": [],
   "source": [
    "from sklearn.preprocessing import MinMaxScaler\n",
    "\n",
    "minmax_ftrs = ['Day', 'Days_to_election']\n",
    "scaler = MinMaxScaler()\n",
    "X_train[minmax_ftrs] = scaler.fit_transform(X_train[minmax_ftrs])\n",
    "X_val[minmax_ftrs] = scaler.transform(X_val[minmax_ftrs])\n",
    "X_test[minmax_ftrs] = scaler.transform(X_test[minmax_ftrs])"
   ]
  },
  {
   "cell_type": "code",
   "execution_count": 180,
   "metadata": {},
   "outputs": [
    {
     "data": {
      "text/html": [
       "<div>\n",
       "<style scoped>\n",
       "    .dataframe tbody tr th:only-of-type {\n",
       "        vertical-align: middle;\n",
       "    }\n",
       "\n",
       "    .dataframe tbody tr th {\n",
       "        vertical-align: top;\n",
       "    }\n",
       "\n",
       "    .dataframe thead th {\n",
       "        text-align: right;\n",
       "    }\n",
       "</style>\n",
       "<table border=\"1\" class=\"dataframe\">\n",
       "  <thead>\n",
       "    <tr style=\"text-align: right;\">\n",
       "      <th></th>\n",
       "      <th>Open</th>\n",
       "      <th>High</th>\n",
       "      <th>Low</th>\n",
       "      <th>Close</th>\n",
       "      <th>Volume</th>\n",
       "      <th>moving_avg_50</th>\n",
       "      <th>moving_avg_100</th>\n",
       "      <th>Month</th>\n",
       "      <th>Day</th>\n",
       "      <th>Days_to_election</th>\n",
       "      <th>Avg_month_temp</th>\n",
       "      <th>Avg_month_temp_dev</th>\n",
       "      <th>CCI</th>\n",
       "      <th>VIXCLS</th>\n",
       "    </tr>\n",
       "  </thead>\n",
       "  <tbody>\n",
       "    <tr>\n",
       "      <th>0</th>\n",
       "      <td>-1.261893</td>\n",
       "      <td>-1.282373</td>\n",
       "      <td>-1.244264</td>\n",
       "      <td>-1.257836</td>\n",
       "      <td>-1.043700</td>\n",
       "      <td>NaN</td>\n",
       "      <td>NaN</td>\n",
       "      <td>10</td>\n",
       "      <td>0.779614</td>\n",
       "      <td>1.000000</td>\n",
       "      <td>0.159902</td>\n",
       "      <td>0.743925</td>\n",
       "      <td>1.104675</td>\n",
       "      <td>0.513011</td>\n",
       "    </tr>\n",
       "    <tr>\n",
       "      <th>1</th>\n",
       "      <td>-1.264133</td>\n",
       "      <td>-1.269703</td>\n",
       "      <td>-1.274461</td>\n",
       "      <td>-1.305309</td>\n",
       "      <td>-0.313123</td>\n",
       "      <td>-1.218345</td>\n",
       "      <td>-1.177777</td>\n",
       "      <td>10</td>\n",
       "      <td>0.782369</td>\n",
       "      <td>0.999082</td>\n",
       "      <td>0.159902</td>\n",
       "      <td>0.743925</td>\n",
       "      <td>1.104675</td>\n",
       "      <td>0.890603</td>\n",
       "    </tr>\n",
       "    <tr>\n",
       "      <th>2</th>\n",
       "      <td>-1.303205</td>\n",
       "      <td>-1.313705</td>\n",
       "      <td>-1.312510</td>\n",
       "      <td>-1.337888</td>\n",
       "      <td>0.035411</td>\n",
       "      <td>-1.243204</td>\n",
       "      <td>-1.203765</td>\n",
       "      <td>10</td>\n",
       "      <td>0.785124</td>\n",
       "      <td>0.998163</td>\n",
       "      <td>0.159902</td>\n",
       "      <td>0.743925</td>\n",
       "      <td>1.104675</td>\n",
       "      <td>0.981225</td>\n",
       "    </tr>\n",
       "    <tr>\n",
       "      <th>3</th>\n",
       "      <td>-1.327979</td>\n",
       "      <td>-1.263471</td>\n",
       "      <td>-1.292745</td>\n",
       "      <td>-1.235772</td>\n",
       "      <td>0.181478</td>\n",
       "      <td>-1.262864</td>\n",
       "      <td>-1.224317</td>\n",
       "      <td>10</td>\n",
       "      <td>0.787879</td>\n",
       "      <td>0.997245</td>\n",
       "      <td>0.159902</td>\n",
       "      <td>0.743925</td>\n",
       "      <td>1.104675</td>\n",
       "      <td>0.482803</td>\n",
       "    </tr>\n",
       "    <tr>\n",
       "      <th>4</th>\n",
       "      <td>-1.231848</td>\n",
       "      <td>-1.231140</td>\n",
       "      <td>-1.210141</td>\n",
       "      <td>-1.203882</td>\n",
       "      <td>-0.035195</td>\n",
       "      <td>-1.245957</td>\n",
       "      <td>-1.206643</td>\n",
       "      <td>10</td>\n",
       "      <td>0.790634</td>\n",
       "      <td>0.996327</td>\n",
       "      <td>0.159902</td>\n",
       "      <td>0.743925</td>\n",
       "      <td>1.104675</td>\n",
       "      <td>0.231075</td>\n",
       "    </tr>\n",
       "    <tr>\n",
       "      <th>...</th>\n",
       "      <td>...</td>\n",
       "      <td>...</td>\n",
       "      <td>...</td>\n",
       "      <td>...</td>\n",
       "      <td>...</td>\n",
       "      <td>...</td>\n",
       "      <td>...</td>\n",
       "      <td>...</td>\n",
       "      <td>...</td>\n",
       "      <td>...</td>\n",
       "      <td>...</td>\n",
       "      <td>...</td>\n",
       "      <td>...</td>\n",
       "      <td>...</td>\n",
       "    </tr>\n",
       "    <tr>\n",
       "      <th>748</th>\n",
       "      <td>1.875767</td>\n",
       "      <td>1.879728</td>\n",
       "      <td>1.880024</td>\n",
       "      <td>1.869527</td>\n",
       "      <td>-0.367313</td>\n",
       "      <td>1.862093</td>\n",
       "      <td>1.817391</td>\n",
       "      <td>10</td>\n",
       "      <td>0.749311</td>\n",
       "      <td>0.003673</td>\n",
       "      <td>-0.082026</td>\n",
       "      <td>-1.140588</td>\n",
       "      <td>2.257253</td>\n",
       "      <td>-0.536696</td>\n",
       "    </tr>\n",
       "    <tr>\n",
       "      <th>749</th>\n",
       "      <td>1.867188</td>\n",
       "      <td>1.860309</td>\n",
       "      <td>1.885052</td>\n",
       "      <td>1.865527</td>\n",
       "      <td>-0.313181</td>\n",
       "      <td>1.870502</td>\n",
       "      <td>1.824953</td>\n",
       "      <td>10</td>\n",
       "      <td>0.752066</td>\n",
       "      <td>0.002755</td>\n",
       "      <td>-0.082026</td>\n",
       "      <td>-1.140588</td>\n",
       "      <td>2.257253</td>\n",
       "      <td>-0.524109</td>\n",
       "    </tr>\n",
       "    <tr>\n",
       "      <th>750</th>\n",
       "      <td>1.894373</td>\n",
       "      <td>1.889369</td>\n",
       "      <td>1.891904</td>\n",
       "      <td>1.872699</td>\n",
       "      <td>-0.030484</td>\n",
       "      <td>1.878092</td>\n",
       "      <td>1.832419</td>\n",
       "      <td>10</td>\n",
       "      <td>0.754821</td>\n",
       "      <td>0.001837</td>\n",
       "      <td>-0.082026</td>\n",
       "      <td>-1.140588</td>\n",
       "      <td>2.257253</td>\n",
       "      <td>-0.634870</td>\n",
       "    </tr>\n",
       "    <tr>\n",
       "      <th>751</th>\n",
       "      <td>1.851855</td>\n",
       "      <td>1.820232</td>\n",
       "      <td>1.762988</td>\n",
       "      <td>1.790303</td>\n",
       "      <td>-0.176766</td>\n",
       "      <td>1.882102</td>\n",
       "      <td>1.838891</td>\n",
       "      <td>10</td>\n",
       "      <td>0.757576</td>\n",
       "      <td>0.000918</td>\n",
       "      <td>-0.082026</td>\n",
       "      <td>-1.140588</td>\n",
       "      <td>2.257253</td>\n",
       "      <td>0.022141</td>\n",
       "    </tr>\n",
       "    <tr>\n",
       "      <th>752</th>\n",
       "      <td>1.793935</td>\n",
       "      <td>1.785319</td>\n",
       "      <td>1.712613</td>\n",
       "      <td>1.735004</td>\n",
       "      <td>-0.417883</td>\n",
       "      <td>1.885578</td>\n",
       "      <td>1.845464</td>\n",
       "      <td>10</td>\n",
       "      <td>0.760331</td>\n",
       "      <td>0.000000</td>\n",
       "      <td>-0.082026</td>\n",
       "      <td>-1.140588</td>\n",
       "      <td>2.257253</td>\n",
       "      <td>0.173178</td>\n",
       "    </tr>\n",
       "  </tbody>\n",
       "</table>\n",
       "<p>753 rows × 14 columns</p>\n",
       "</div>"
      ],
      "text/plain": [
       "         Open      High       Low     Close    Volume  moving_avg_50  \\\n",
       "0   -1.261893 -1.282373 -1.244264 -1.257836 -1.043700            NaN   \n",
       "1   -1.264133 -1.269703 -1.274461 -1.305309 -0.313123      -1.218345   \n",
       "2   -1.303205 -1.313705 -1.312510 -1.337888  0.035411      -1.243204   \n",
       "3   -1.327979 -1.263471 -1.292745 -1.235772  0.181478      -1.262864   \n",
       "4   -1.231848 -1.231140 -1.210141 -1.203882 -0.035195      -1.245957   \n",
       "..        ...       ...       ...       ...       ...            ...   \n",
       "748  1.875767  1.879728  1.880024  1.869527 -0.367313       1.862093   \n",
       "749  1.867188  1.860309  1.885052  1.865527 -0.313181       1.870502   \n",
       "750  1.894373  1.889369  1.891904  1.872699 -0.030484       1.878092   \n",
       "751  1.851855  1.820232  1.762988  1.790303 -0.176766       1.882102   \n",
       "752  1.793935  1.785319  1.712613  1.735004 -0.417883       1.885578   \n",
       "\n",
       "     moving_avg_100  Month       Day  Days_to_election  Avg_month_temp  \\\n",
       "0               NaN     10  0.779614          1.000000        0.159902   \n",
       "1         -1.177777     10  0.782369          0.999082        0.159902   \n",
       "2         -1.203765     10  0.785124          0.998163        0.159902   \n",
       "3         -1.224317     10  0.787879          0.997245        0.159902   \n",
       "4         -1.206643     10  0.790634          0.996327        0.159902   \n",
       "..              ...    ...       ...               ...             ...   \n",
       "748        1.817391     10  0.749311          0.003673       -0.082026   \n",
       "749        1.824953     10  0.752066          0.002755       -0.082026   \n",
       "750        1.832419     10  0.754821          0.001837       -0.082026   \n",
       "751        1.838891     10  0.757576          0.000918       -0.082026   \n",
       "752        1.845464     10  0.760331          0.000000       -0.082026   \n",
       "\n",
       "     Avg_month_temp_dev       CCI    VIXCLS  \n",
       "0              0.743925  1.104675  0.513011  \n",
       "1              0.743925  1.104675  0.890603  \n",
       "2              0.743925  1.104675  0.981225  \n",
       "3              0.743925  1.104675  0.482803  \n",
       "4              0.743925  1.104675  0.231075  \n",
       "..                  ...       ...       ...  \n",
       "748           -1.140588  2.257253 -0.536696  \n",
       "749           -1.140588  2.257253 -0.524109  \n",
       "750           -1.140588  2.257253 -0.634870  \n",
       "751           -1.140588  2.257253  0.022141  \n",
       "752           -1.140588  2.257253  0.173178  \n",
       "\n",
       "[753 rows x 14 columns]"
      ]
     },
     "execution_count": 180,
     "metadata": {},
     "output_type": "execute_result"
    }
   ],
   "source": [
    "X_train"
   ]
  },
  {
   "cell_type": "code",
   "execution_count": 181,
   "metadata": {},
   "outputs": [
    {
     "name": "stdout",
     "output_type": "stream",
     "text": [
      "feature names: ['Month_1' 'Month_2' 'Month_3' 'Month_4' 'Month_5' 'Month_6' 'Month_7'\n",
      " 'Month_8' 'Month_9' 'Month_10' 'Month_11' 'Month_12']\n"
     ]
    }
   ],
   "source": [
    "from sklearn.preprocessing import OneHotEncoder\n",
    "\n",
    "#initialize and fit the encoder\n",
    "enc = OneHotEncoder(sparse=False,handle_unknown='ignore')\n",
    "enc.fit(X_train['Month'].values.reshape(-1,1))\n",
    "print('feature names:',enc.get_feature_names(['Month']))"
   ]
  },
  {
   "cell_type": "code",
   "execution_count": 182,
   "metadata": {},
   "outputs": [],
   "source": [
    "# now we apply it to the three matrices\n",
    "ohe_month_train = enc.transform(X_train['Month'].values.reshape(-1,1))\n",
    "ohe_month_val = enc.transform(X_val['Month'].values.reshape(-1,1))\n",
    "ohe_month_test = enc.transform(X_test['Month'].values.reshape(-1,1))"
   ]
  },
  {
   "cell_type": "code",
   "execution_count": 183,
   "metadata": {},
   "outputs": [],
   "source": [
    "# and now we replace the original month column and add the ohe columns to the matrices\n",
    "X_train.drop('Month', axis=1, inplace=True)\n",
    "# loop through the columns Month_1,...,Month_12\n",
    "for i in range(12):\n",
    "    X_train[enc.get_feature_names(['Month'])[i]] = ohe_month_train[:,i]\n",
    "\n",
    "X_val.drop('Month', axis=1, inplace=True)\n",
    "# loop through the columns Month_1,...,Month_12\n",
    "for i in range(12):\n",
    "    X_val[enc.get_feature_names(['Month'])[i]] = ohe_month_val[:,i]\n",
    "    \n",
    "X_test.drop('Month', axis=1, inplace=True)\n",
    "# loop through the columns Month_1,...,Month_12\n",
    "for i in range(12):\n",
    "    X_test[enc.get_feature_names(['Month'])[i]] = ohe_month_test[:,i]"
   ]
  },
  {
   "cell_type": "code",
   "execution_count": 184,
   "metadata": {},
   "outputs": [
    {
     "data": {
      "text/html": [
       "<div>\n",
       "<style scoped>\n",
       "    .dataframe tbody tr th:only-of-type {\n",
       "        vertical-align: middle;\n",
       "    }\n",
       "\n",
       "    .dataframe tbody tr th {\n",
       "        vertical-align: top;\n",
       "    }\n",
       "\n",
       "    .dataframe thead th {\n",
       "        text-align: right;\n",
       "    }\n",
       "</style>\n",
       "<table border=\"1\" class=\"dataframe\">\n",
       "  <thead>\n",
       "    <tr style=\"text-align: right;\">\n",
       "      <th></th>\n",
       "      <th>Open</th>\n",
       "      <th>High</th>\n",
       "      <th>Low</th>\n",
       "      <th>Close</th>\n",
       "      <th>Volume</th>\n",
       "      <th>moving_avg_50</th>\n",
       "      <th>moving_avg_100</th>\n",
       "      <th>Day</th>\n",
       "      <th>Days_to_election</th>\n",
       "      <th>Avg_month_temp</th>\n",
       "      <th>...</th>\n",
       "      <th>Month_3</th>\n",
       "      <th>Month_4</th>\n",
       "      <th>Month_5</th>\n",
       "      <th>Month_6</th>\n",
       "      <th>Month_7</th>\n",
       "      <th>Month_8</th>\n",
       "      <th>Month_9</th>\n",
       "      <th>Month_10</th>\n",
       "      <th>Month_11</th>\n",
       "      <th>Month_12</th>\n",
       "    </tr>\n",
       "  </thead>\n",
       "  <tbody>\n",
       "    <tr>\n",
       "      <th>1004</th>\n",
       "      <td>1.855473</td>\n",
       "      <td>1.839823</td>\n",
       "      <td>1.793082</td>\n",
       "      <td>1.760826</td>\n",
       "      <td>-0.378430</td>\n",
       "      <td>2.105544</td>\n",
       "      <td>2.259934</td>\n",
       "      <td>0.768595</td>\n",
       "      <td>0.999082</td>\n",
       "      <td>-0.195794</td>\n",
       "      <td>...</td>\n",
       "      <td>0.0</td>\n",
       "      <td>0.0</td>\n",
       "      <td>0.0</td>\n",
       "      <td>0.0</td>\n",
       "      <td>0.0</td>\n",
       "      <td>0.0</td>\n",
       "      <td>0.0</td>\n",
       "      <td>1.0</td>\n",
       "      <td>0.0</td>\n",
       "      <td>0.0</td>\n",
       "    </tr>\n",
       "    <tr>\n",
       "      <th>1005</th>\n",
       "      <td>1.823430</td>\n",
       "      <td>1.853079</td>\n",
       "      <td>1.843870</td>\n",
       "      <td>1.851634</td>\n",
       "      <td>-1.282735</td>\n",
       "      <td>2.098772</td>\n",
       "      <td>2.262194</td>\n",
       "      <td>0.771350</td>\n",
       "      <td>0.998163</td>\n",
       "      <td>-0.195794</td>\n",
       "      <td>...</td>\n",
       "      <td>0.0</td>\n",
       "      <td>0.0</td>\n",
       "      <td>0.0</td>\n",
       "      <td>0.0</td>\n",
       "      <td>0.0</td>\n",
       "      <td>0.0</td>\n",
       "      <td>0.0</td>\n",
       "      <td>1.0</td>\n",
       "      <td>0.0</td>\n",
       "      <td>0.0</td>\n",
       "    </tr>\n",
       "    <tr>\n",
       "      <th>1006</th>\n",
       "      <td>1.849099</td>\n",
       "      <td>1.918979</td>\n",
       "      <td>1.877305</td>\n",
       "      <td>1.916206</td>\n",
       "      <td>-0.578356</td>\n",
       "      <td>2.095721</td>\n",
       "      <td>2.265889</td>\n",
       "      <td>0.774105</td>\n",
       "      <td>0.997245</td>\n",
       "      <td>-0.195794</td>\n",
       "      <td>...</td>\n",
       "      <td>0.0</td>\n",
       "      <td>0.0</td>\n",
       "      <td>0.0</td>\n",
       "      <td>0.0</td>\n",
       "      <td>0.0</td>\n",
       "      <td>0.0</td>\n",
       "      <td>0.0</td>\n",
       "      <td>1.0</td>\n",
       "      <td>0.0</td>\n",
       "      <td>0.0</td>\n",
       "    </tr>\n",
       "    <tr>\n",
       "      <th>1007</th>\n",
       "      <td>2.002495</td>\n",
       "      <td>2.073297</td>\n",
       "      <td>2.035523</td>\n",
       "      <td>2.027010</td>\n",
       "      <td>-0.056695</td>\n",
       "      <td>2.096928</td>\n",
       "      <td>2.269887</td>\n",
       "      <td>0.776860</td>\n",
       "      <td>0.996327</td>\n",
       "      <td>-0.195794</td>\n",
       "      <td>...</td>\n",
       "      <td>0.0</td>\n",
       "      <td>0.0</td>\n",
       "      <td>0.0</td>\n",
       "      <td>0.0</td>\n",
       "      <td>0.0</td>\n",
       "      <td>0.0</td>\n",
       "      <td>0.0</td>\n",
       "      <td>1.0</td>\n",
       "      <td>0.0</td>\n",
       "      <td>0.0</td>\n",
       "    </tr>\n",
       "    <tr>\n",
       "      <th>1008</th>\n",
       "      <td>2.011936</td>\n",
       "      <td>2.002921</td>\n",
       "      <td>2.035075</td>\n",
       "      <td>2.012806</td>\n",
       "      <td>-1.526611</td>\n",
       "      <td>2.099390</td>\n",
       "      <td>2.274034</td>\n",
       "      <td>0.785124</td>\n",
       "      <td>0.993572</td>\n",
       "      <td>-0.195794</td>\n",
       "      <td>...</td>\n",
       "      <td>0.0</td>\n",
       "      <td>0.0</td>\n",
       "      <td>0.0</td>\n",
       "      <td>0.0</td>\n",
       "      <td>0.0</td>\n",
       "      <td>0.0</td>\n",
       "      <td>0.0</td>\n",
       "      <td>1.0</td>\n",
       "      <td>0.0</td>\n",
       "      <td>0.0</td>\n",
       "    </tr>\n",
       "    <tr>\n",
       "      <th>...</th>\n",
       "      <td>...</td>\n",
       "      <td>...</td>\n",
       "      <td>...</td>\n",
       "      <td>...</td>\n",
       "      <td>...</td>\n",
       "      <td>...</td>\n",
       "      <td>...</td>\n",
       "      <td>...</td>\n",
       "      <td>...</td>\n",
       "      <td>...</td>\n",
       "      <td>...</td>\n",
       "      <td>...</td>\n",
       "      <td>...</td>\n",
       "      <td>...</td>\n",
       "      <td>...</td>\n",
       "      <td>...</td>\n",
       "      <td>...</td>\n",
       "      <td>...</td>\n",
       "      <td>...</td>\n",
       "      <td>...</td>\n",
       "      <td>...</td>\n",
       "    </tr>\n",
       "    <tr>\n",
       "      <th>1254</th>\n",
       "      <td>3.395188</td>\n",
       "      <td>3.506606</td>\n",
       "      <td>3.427294</td>\n",
       "      <td>3.538169</td>\n",
       "      <td>0.096208</td>\n",
       "      <td>3.648723</td>\n",
       "      <td>3.417137</td>\n",
       "      <td>0.763085</td>\n",
       "      <td>0.665748</td>\n",
       "      <td>0.758898</td>\n",
       "      <td>...</td>\n",
       "      <td>0.0</td>\n",
       "      <td>0.0</td>\n",
       "      <td>0.0</td>\n",
       "      <td>0.0</td>\n",
       "      <td>0.0</td>\n",
       "      <td>0.0</td>\n",
       "      <td>0.0</td>\n",
       "      <td>1.0</td>\n",
       "      <td>0.0</td>\n",
       "      <td>0.0</td>\n",
       "    </tr>\n",
       "    <tr>\n",
       "      <th>1255</th>\n",
       "      <td>3.538075</td>\n",
       "      <td>3.582319</td>\n",
       "      <td>3.383461</td>\n",
       "      <td>3.373962</td>\n",
       "      <td>1.182673</td>\n",
       "      <td>3.657501</td>\n",
       "      <td>3.436329</td>\n",
       "      <td>0.765840</td>\n",
       "      <td>0.664830</td>\n",
       "      <td>0.758898</td>\n",
       "      <td>...</td>\n",
       "      <td>0.0</td>\n",
       "      <td>0.0</td>\n",
       "      <td>0.0</td>\n",
       "      <td>0.0</td>\n",
       "      <td>0.0</td>\n",
       "      <td>0.0</td>\n",
       "      <td>0.0</td>\n",
       "      <td>1.0</td>\n",
       "      <td>0.0</td>\n",
       "      <td>0.0</td>\n",
       "    </tr>\n",
       "    <tr>\n",
       "      <th>1256</th>\n",
       "      <td>3.454762</td>\n",
       "      <td>3.564071</td>\n",
       "      <td>3.486829</td>\n",
       "      <td>3.575539</td>\n",
       "      <td>0.269865</td>\n",
       "      <td>3.672015</td>\n",
       "      <td>3.457306</td>\n",
       "      <td>0.768595</td>\n",
       "      <td>0.663912</td>\n",
       "      <td>0.758898</td>\n",
       "      <td>...</td>\n",
       "      <td>0.0</td>\n",
       "      <td>0.0</td>\n",
       "      <td>0.0</td>\n",
       "      <td>0.0</td>\n",
       "      <td>0.0</td>\n",
       "      <td>0.0</td>\n",
       "      <td>0.0</td>\n",
       "      <td>1.0</td>\n",
       "      <td>0.0</td>\n",
       "      <td>0.0</td>\n",
       "    </tr>\n",
       "    <tr>\n",
       "      <th>1257</th>\n",
       "      <td>3.626075</td>\n",
       "      <td>3.636444</td>\n",
       "      <td>3.636920</td>\n",
       "      <td>3.669968</td>\n",
       "      <td>0.339322</td>\n",
       "      <td>3.685619</td>\n",
       "      <td>3.475911</td>\n",
       "      <td>0.771350</td>\n",
       "      <td>0.662994</td>\n",
       "      <td>0.758898</td>\n",
       "      <td>...</td>\n",
       "      <td>0.0</td>\n",
       "      <td>0.0</td>\n",
       "      <td>0.0</td>\n",
       "      <td>0.0</td>\n",
       "      <td>0.0</td>\n",
       "      <td>0.0</td>\n",
       "      <td>0.0</td>\n",
       "      <td>1.0</td>\n",
       "      <td>0.0</td>\n",
       "      <td>0.0</td>\n",
       "    </tr>\n",
       "    <tr>\n",
       "      <th>1258</th>\n",
       "      <td>3.713557</td>\n",
       "      <td>3.757157</td>\n",
       "      <td>3.739944</td>\n",
       "      <td>3.774462</td>\n",
       "      <td>0.458344</td>\n",
       "      <td>3.702294</td>\n",
       "      <td>3.496830</td>\n",
       "      <td>0.774105</td>\n",
       "      <td>0.662075</td>\n",
       "      <td>0.758898</td>\n",
       "      <td>...</td>\n",
       "      <td>0.0</td>\n",
       "      <td>0.0</td>\n",
       "      <td>0.0</td>\n",
       "      <td>0.0</td>\n",
       "      <td>0.0</td>\n",
       "      <td>0.0</td>\n",
       "      <td>0.0</td>\n",
       "      <td>1.0</td>\n",
       "      <td>0.0</td>\n",
       "      <td>0.0</td>\n",
       "    </tr>\n",
       "  </tbody>\n",
       "</table>\n",
       "<p>255 rows × 25 columns</p>\n",
       "</div>"
      ],
      "text/plain": [
       "          Open      High       Low     Close    Volume  moving_avg_50  \\\n",
       "1004  1.855473  1.839823  1.793082  1.760826 -0.378430       2.105544   \n",
       "1005  1.823430  1.853079  1.843870  1.851634 -1.282735       2.098772   \n",
       "1006  1.849099  1.918979  1.877305  1.916206 -0.578356       2.095721   \n",
       "1007  2.002495  2.073297  2.035523  2.027010 -0.056695       2.096928   \n",
       "1008  2.011936  2.002921  2.035075  2.012806 -1.526611       2.099390   \n",
       "...        ...       ...       ...       ...       ...            ...   \n",
       "1254  3.395188  3.506606  3.427294  3.538169  0.096208       3.648723   \n",
       "1255  3.538075  3.582319  3.383461  3.373962  1.182673       3.657501   \n",
       "1256  3.454762  3.564071  3.486829  3.575539  0.269865       3.672015   \n",
       "1257  3.626075  3.636444  3.636920  3.669968  0.339322       3.685619   \n",
       "1258  3.713557  3.757157  3.739944  3.774462  0.458344       3.702294   \n",
       "\n",
       "      moving_avg_100       Day  Days_to_election  Avg_month_temp  ...  \\\n",
       "1004        2.259934  0.768595          0.999082       -0.195794  ...   \n",
       "1005        2.262194  0.771350          0.998163       -0.195794  ...   \n",
       "1006        2.265889  0.774105          0.997245       -0.195794  ...   \n",
       "1007        2.269887  0.776860          0.996327       -0.195794  ...   \n",
       "1008        2.274034  0.785124          0.993572       -0.195794  ...   \n",
       "...              ...       ...               ...             ...  ...   \n",
       "1254        3.417137  0.763085          0.665748        0.758898  ...   \n",
       "1255        3.436329  0.765840          0.664830        0.758898  ...   \n",
       "1256        3.457306  0.768595          0.663912        0.758898  ...   \n",
       "1257        3.475911  0.771350          0.662994        0.758898  ...   \n",
       "1258        3.496830  0.774105          0.662075        0.758898  ...   \n",
       "\n",
       "      Month_3  Month_4  Month_5  Month_6  Month_7  Month_8  Month_9  Month_10  \\\n",
       "1004      0.0      0.0      0.0      0.0      0.0      0.0      0.0       1.0   \n",
       "1005      0.0      0.0      0.0      0.0      0.0      0.0      0.0       1.0   \n",
       "1006      0.0      0.0      0.0      0.0      0.0      0.0      0.0       1.0   \n",
       "1007      0.0      0.0      0.0      0.0      0.0      0.0      0.0       1.0   \n",
       "1008      0.0      0.0      0.0      0.0      0.0      0.0      0.0       1.0   \n",
       "...       ...      ...      ...      ...      ...      ...      ...       ...   \n",
       "1254      0.0      0.0      0.0      0.0      0.0      0.0      0.0       1.0   \n",
       "1255      0.0      0.0      0.0      0.0      0.0      0.0      0.0       1.0   \n",
       "1256      0.0      0.0      0.0      0.0      0.0      0.0      0.0       1.0   \n",
       "1257      0.0      0.0      0.0      0.0      0.0      0.0      0.0       1.0   \n",
       "1258      0.0      0.0      0.0      0.0      0.0      0.0      0.0       1.0   \n",
       "\n",
       "      Month_11  Month_12  \n",
       "1004       0.0       0.0  \n",
       "1005       0.0       0.0  \n",
       "1006       0.0       0.0  \n",
       "1007       0.0       0.0  \n",
       "1008       0.0       0.0  \n",
       "...        ...       ...  \n",
       "1254       0.0       0.0  \n",
       "1255       0.0       0.0  \n",
       "1256       0.0       0.0  \n",
       "1257       0.0       0.0  \n",
       "1258       0.0       0.0  \n",
       "\n",
       "[255 rows x 25 columns]"
      ]
     },
     "execution_count": 184,
     "metadata": {},
     "output_type": "execute_result"
    }
   ],
   "source": [
    "X_test"
   ]
  },
  {
   "cell_type": "markdown",
   "metadata": {},
   "source": [
    "## At this point we have matrices X_train, X_val, and X_test which are the fully preprocessed feature matrices for training, validation, and testing, as well as y_train, y_val, and y_test which contains the target variable for the training, validation, and test sets respectively."
   ]
  },
  {
   "cell_type": "markdown",
   "metadata": {},
   "source": [
    "-----"
   ]
  },
  {
   "cell_type": "markdown",
   "metadata": {},
   "source": [
    "### ... and here we'll save the data to separate csv files to be saved in the data folder and loaded in to the reports notebook"
   ]
  },
  {
   "cell_type": "code",
   "execution_count": 185,
   "metadata": {},
   "outputs": [],
   "source": [
    "X_train.to_csv('../data/X_train.csv', index=False)\n",
    "y_train.to_csv('../data/y_train.csv', index=False)\n",
    "X_val.to_csv('../data/X_val.csv', index=False)\n",
    "y_val.to_csv('../data/y_val.csv', index=False)\n",
    "X_test.to_csv('../data/X_test.csv', index=False)\n",
    "y_test.to_csv('../data/y_test.csv', index=False)"
   ]
  },
  {
   "cell_type": "code",
   "execution_count": null,
   "metadata": {},
   "outputs": [],
   "source": []
  }
 ],
 "metadata": {
  "kernelspec": {
   "display_name": "Python (data1030)",
   "language": "python",
   "name": "data1030"
  },
  "language_info": {
   "codemirror_mode": {
    "name": "ipython",
    "version": 3
   },
   "file_extension": ".py",
   "mimetype": "text/x-python",
   "name": "python",
   "nbconvert_exporter": "python",
   "pygments_lexer": "ipython3",
   "version": "3.7.8"
  }
 },
 "nbformat": 4,
 "nbformat_minor": 2
}
